{
 "cells": [
  {
   "cell_type": "markdown",
   "metadata": {},
   "source": [
    "# Reduction of dataset to be around n (500) occurrence if possible."
   ]
  },
  {
   "cell_type": "code",
   "execution_count": 1,
   "metadata": {},
   "outputs": [],
   "source": [
    "import pandas as pd"
   ]
  },
  {
   "cell_type": "markdown",
   "metadata": {},
   "source": [
    "## Single tag occurrence vs all"
   ]
  },
  {
   "cell_type": "code",
   "execution_count": 2,
   "metadata": {},
   "outputs": [
    {
     "data": {
      "text/plain": [
       "{'Single Genre Count': np.int64(30169),\n",
       " 'Multiple Genre Count': np.int64(16839)}"
      ]
     },
     "execution_count": 2,
     "metadata": {},
     "output_type": "execute_result"
    }
   ],
   "source": [
    "data = pd.read_csv('../../datasets/jamendo/metadata/audio_dataset_14_genres.csv')\n",
    "\n",
    "# Create a new column that counts the number of genres in each row\n",
    "data['genre_count'] = data['TAGS'].apply(lambda x: len(x.split(';')))\n",
    "\n",
    "# Count the occurrences based on the number of genres (1 for single, more than 1 for multiple)\n",
    "genre_count_summary = data['genre_count'].value_counts().sort_index()\n",
    "\n",
    "# Separate the counts into single-genre and multiple-genre categories for clarity\n",
    "single_genre_count = genre_count_summary.get(1, 0)  # Tracks with exactly one genre\n",
    "multiple_genre_count = genre_count_summary[genre_count_summary.index > 1].sum()  # Tracks with multiple genres\n",
    "\n",
    "# Prepare results\n",
    "result = {\n",
    "    \"Single Genre Count\": single_genre_count,\n",
    "    \"Multiple Genre Count\": multiple_genre_count\n",
    "}\n",
    "\n",
    "result"
   ]
  },
  {
   "cell_type": "code",
   "execution_count": 5,
   "metadata": {},
   "outputs": [
    {
     "data": {
      "text/html": [
       "<div>\n",
       "<style scoped>\n",
       "    .dataframe tbody tr th:only-of-type {\n",
       "        vertical-align: middle;\n",
       "    }\n",
       "\n",
       "    .dataframe tbody tr th {\n",
       "        vertical-align: top;\n",
       "    }\n",
       "\n",
       "    .dataframe thead th {\n",
       "        text-align: right;\n",
       "    }\n",
       "</style>\n",
       "<table border=\"1\" class=\"dataframe\">\n",
       "  <thead>\n",
       "    <tr style=\"text-align: right;\">\n",
       "      <th>genre_type</th>\n",
       "      <th>Multiple</th>\n",
       "      <th>Single</th>\n",
       "    </tr>\n",
       "    <tr>\n",
       "      <th>TAGS</th>\n",
       "      <th></th>\n",
       "      <th></th>\n",
       "    </tr>\n",
       "  </thead>\n",
       "  <tbody>\n",
       "    <tr>\n",
       "      <th>Ambient</th>\n",
       "      <td>4314</td>\n",
       "      <td>3256</td>\n",
       "    </tr>\n",
       "    <tr>\n",
       "      <th>Blues</th>\n",
       "      <td>798</td>\n",
       "      <td>347</td>\n",
       "    </tr>\n",
       "    <tr>\n",
       "      <th>Elektronika</th>\n",
       "      <td>8848</td>\n",
       "      <td>9062</td>\n",
       "    </tr>\n",
       "    <tr>\n",
       "      <th>Funk</th>\n",
       "      <td>1095</td>\n",
       "      <td>300</td>\n",
       "    </tr>\n",
       "    <tr>\n",
       "      <th>Hip-Hop</th>\n",
       "      <td>1143</td>\n",
       "      <td>1514</td>\n",
       "    </tr>\n",
       "    <tr>\n",
       "      <th>House</th>\n",
       "      <td>1524</td>\n",
       "      <td>645</td>\n",
       "    </tr>\n",
       "    <tr>\n",
       "      <th>Jazz</th>\n",
       "      <td>1590</td>\n",
       "      <td>1207</td>\n",
       "    </tr>\n",
       "    <tr>\n",
       "      <th>Klasyczna</th>\n",
       "      <td>1843</td>\n",
       "      <td>5345</td>\n",
       "    </tr>\n",
       "    <tr>\n",
       "      <th>Latin</th>\n",
       "      <td>357</td>\n",
       "      <td>347</td>\n",
       "    </tr>\n",
       "    <tr>\n",
       "      <th>Metal</th>\n",
       "      <td>798</td>\n",
       "      <td>637</td>\n",
       "    </tr>\n",
       "    <tr>\n",
       "      <th>Pop</th>\n",
       "      <td>5882</td>\n",
       "      <td>3329</td>\n",
       "    </tr>\n",
       "    <tr>\n",
       "      <th>Reggae</th>\n",
       "      <td>433</td>\n",
       "      <td>812</td>\n",
       "    </tr>\n",
       "    <tr>\n",
       "      <th>Rock</th>\n",
       "      <td>5840</td>\n",
       "      <td>3368</td>\n",
       "    </tr>\n",
       "    <tr>\n",
       "      <th>Techno</th>\n",
       "      <td>2179</td>\n",
       "      <td>0</td>\n",
       "    </tr>\n",
       "  </tbody>\n",
       "</table>\n",
       "</div>"
      ],
      "text/plain": [
       "genre_type   Multiple  Single\n",
       "TAGS                         \n",
       "Ambient          4314    3256\n",
       "Blues             798     347\n",
       "Elektronika      8848    9062\n",
       "Funk             1095     300\n",
       "Hip-Hop          1143    1514\n",
       "House            1524     645\n",
       "Jazz             1590    1207\n",
       "Klasyczna        1843    5345\n",
       "Latin             357     347\n",
       "Metal             798     637\n",
       "Pop              5882    3329\n",
       "Reggae            433     812\n",
       "Rock             5840    3368\n",
       "Techno           2179       0"
      ]
     },
     "execution_count": 5,
     "metadata": {},
     "output_type": "execute_result"
    }
   ],
   "source": [
    "# For a breakdown by genre, distinguishing single-genre vs multiple-genre occurrences\n",
    "\n",
    "# First, split the genres and explode to have one genre per row for accurate counting\n",
    "data_expanded = data.copy()\n",
    "data_expanded['TAGS'] = data_expanded['TAGS'].str.split(';')\n",
    "data_expanded = data_expanded.explode('TAGS')\n",
    "\n",
    "# Add a column to indicate if the original row was a single or multiple genre\n",
    "data_expanded['genre_type'] = data_expanded['genre_count'].apply(lambda x: 'Single' if x == 1 else 'Multiple')\n",
    "\n",
    "# Now count occurrences by genre and genre type\n",
    "genre_breakdown = data_expanded.groupby(['TAGS', 'genre_type']).size().unstack(fill_value=0)\n",
    "\n",
    "# Display the result for user\n",
    "genre_breakdown"
   ]
  },
  {
   "cell_type": "markdown",
   "metadata": {},
   "source": [
    "## Average time per genre"
   ]
  },
  {
   "cell_type": "code",
   "execution_count": 6,
   "metadata": {},
   "outputs": [
    {
     "data": {
      "text/plain": [
       "TAGS\n",
       "Ambient        293.050462\n",
       "Blues          221.648559\n",
       "Elektronika    269.691971\n",
       "Funk           228.744158\n",
       "Hip-Hop        198.318705\n",
       "House          273.232319\n",
       "Jazz           255.151662\n",
       "Klasyczna      215.848511\n",
       "Latin          205.225568\n",
       "Metal          248.211220\n",
       "Pop            222.198187\n",
       "Reggae         232.878956\n",
       "Rock           229.571112\n",
       "Techno         291.133915\n",
       "Name: DURATION, dtype: float64"
      ]
     },
     "execution_count": 6,
     "metadata": {},
     "output_type": "execute_result"
    }
   ],
   "source": [
    "# Expand the TAGS column by separating multi-genre entries\n",
    "data_genre_expanded = data.copy()\n",
    "data_genre_expanded['TAGS'] = data_genre_expanded['TAGS'].str.split(';')\n",
    "data_genre_expanded = data_genre_expanded.explode('TAGS')\n",
    "\n",
    "# Now, calculate the average duration per genre\n",
    "average_duration_per_genre = data_genre_expanded.groupby('TAGS')['DURATION'].mean()\n",
    "\n",
    "average_duration_per_genre"
   ]
  },
  {
   "cell_type": "markdown",
   "metadata": {},
   "source": [
    "## Dataset reduction - Save reduced metadata file"
   ]
  },
  {
   "cell_type": "code",
   "execution_count": 14,
   "metadata": {},
   "outputs": [
    {
     "name": "stdout",
     "output_type": "stream",
     "text": [
      "Zapisano 5561 utworów do pliku: ../../datasets/jamendo/metadata/reduced_audio_dataset_15_genres.csv\n",
      "\n",
      "Ostateczne statystyki (liczba przydzielonych piosenek):\n",
      "  Ambient: 500 (limit: 500)\n",
      "  Blues: 394 (limit: 500)\n",
      "  Elektronika: 700 (limit: 700)\n",
      "  Folk: 500 (limit: 500)\n",
      "  Funk: 475 (limit: 500)\n",
      "  Hip-Hop: 500 (limit: 500)\n",
      "  House: 500 (limit: 500)\n",
      "  Jazz: 500 (limit: 500)\n",
      "  Klasyczna: 500 (limit: 500)\n",
      "  Latin: 289 (limit: 500)\n",
      "  Metal: 500 (limit: 500)\n",
      "  Pop: 500 (limit: 500)\n",
      "  Reggae: 500 (limit: 500)\n",
      "  Rock: 500 (limit: 500)\n",
      "  Techno: 200 (limit: 200)\n"
     ]
    }
   ],
   "source": [
    "import pandas as pd\n",
    "import numpy as np\n",
    "\n",
    "# 1. Wczytanie danych\n",
    "df = pd.read_csv('../../datasets/jamendo/metadata/audio_dataset_15_genres.csv')\n",
    "\n",
    "# Tworzymy kolumnę 'genre_list' (jeśli jej nie masz)\n",
    "if 'genre_list' not in df.columns:\n",
    "    df['genre_list'] = df['TAGS'].str.split(';')\n",
    "\n",
    "# Zbiór wszystkich etykiet\n",
    "all_genres = set()\n",
    "for glist in df['genre_list']:\n",
    "    all_genres.update(glist)\n",
    "\n",
    "# 2. Definiujemy limity\n",
    "label_limits = {g: 500 for g in all_genres}  # domyślnie 500\n",
    "label_limits['Techno'] = 200                 # Techno do 200\n",
    "label_limits['Elektronika'] = 700            # Elektronika do 700\n",
    "\n",
    "# 3. Tasujemy całe dane, ale utwory z Techno dajemy najpierw\n",
    "#    - najpierw tworzymy dwie grupy: \"zawiera Techno\" i \"nie zawiera Techno\"\n",
    "df_shuffled = df.sample(frac=1, random_state=42).reset_index(drop=True)\n",
    "df_techno = df_shuffled[df_shuffled['genre_list'].apply(lambda x: 'Techno' in x)]\n",
    "df_non_techno = df_shuffled[~df_shuffled.index.isin(df_techno.index)]\n",
    "\n",
    "# 4. Łączymy, tak żeby Techno-labeled pojawiły się na początku\n",
    "df_prioritized = pd.concat([df_techno, df_non_techno], ignore_index=True)\n",
    "\n",
    "# 5. Pętla zbierająca piosenki z ograniczeniami multi-label\n",
    "genre_counts = {g: 0 for g in all_genres}\n",
    "selected_rows = []\n",
    "\n",
    "for _, row in df_prioritized.iterrows():\n",
    "    track_genres = row['genre_list']\n",
    "    can_add = True\n",
    "    for g in track_genres:\n",
    "        # Sprawdź, czy dany gatunek w tym utworze nie jest już \"zapełniony\"\n",
    "        if genre_counts[g] >= label_limits[g]:\n",
    "            can_add = False\n",
    "            break\n",
    "\n",
    "    if can_add:\n",
    "        selected_rows.append(row)\n",
    "        # Zwiększ liczniki we wszystkich gatunkach tego utworu\n",
    "        for g in track_genres:\n",
    "            genre_counts[g] += 1\n",
    "\n",
    "df_sampled = pd.DataFrame(selected_rows)\n",
    "\n",
    "# 6. Zapis i statystyki\n",
    "output_path = '../../datasets/jamendo/metadata/reduced_audio_dataset_15_genres.csv'\n",
    "df_sampled.to_csv(output_path, index=False)\n",
    "\n",
    "print(f\"Zapisano {len(df_sampled)} utworów do pliku: {output_path}\")\n",
    "print(\"\\nOstateczne statystyki (liczba przydzielonych piosenek):\")\n",
    "for g in sorted(label_limits.keys()):\n",
    "    c = sum(df_sampled['genre_list'].apply(lambda x: g in x))\n",
    "    print(f\"  {g}: {c} (limit: {label_limits[g]})\")\n"
   ]
  },
  {
   "cell_type": "code",
   "execution_count": 15,
   "metadata": {},
   "outputs": [
    {
     "data": {
      "text/plain": [
       "{'Single Genre Count': np.int64(4305), 'Multiple Genre Count': np.int64(1256)}"
      ]
     },
     "execution_count": 15,
     "metadata": {},
     "output_type": "execute_result"
    }
   ],
   "source": [
    "data = pd.read_csv('../../datasets/jamendo/metadata/reduced_audio_dataset_15_genres.csv')\n",
    "\n",
    "# Create a new column that counts the number of genres in each row\n",
    "data['genre_count'] = data['TAGS'].apply(lambda x: len(x.split(';')))\n",
    "\n",
    "# Count the occurrences based on the number of genres (1 for single, more than 1 for multiple)\n",
    "genre_count_summary = data['genre_count'].value_counts().sort_index()\n",
    "\n",
    "# Separate the counts into single-genre and multiple-genre categories for clarity\n",
    "single_genre_count = genre_count_summary.get(1, 0)  # Tracks with exactly one genre\n",
    "multiple_genre_count = genre_count_summary[genre_count_summary.index > 1].sum()  # Tracks with multiple genres\n",
    "\n",
    "# Prepare results\n",
    "result = {\n",
    "    \"Single Genre Count\": single_genre_count,\n",
    "    \"Multiple Genre Count\": multiple_genre_count\n",
    "}\n",
    "\n",
    "result"
   ]
  },
  {
   "cell_type": "code",
   "execution_count": 16,
   "metadata": {},
   "outputs": [
    {
     "data": {
      "text/plain": [
       "TAGS\n",
       "Ambient        278.741400\n",
       "Blues          211.855076\n",
       "Elektronika    271.900000\n",
       "Folk           219.570600\n",
       "Funk           223.587789\n",
       "Hip-Hop        195.770400\n",
       "House          258.054200\n",
       "Jazz           249.357600\n",
       "Klasyczna      224.215200\n",
       "Latin          204.001384\n",
       "Metal          246.779200\n",
       "Pop            233.027200\n",
       "Reggae         234.762000\n",
       "Rock           230.097600\n",
       "Techno         288.566000\n",
       "Name: DURATION, dtype: float64"
      ]
     },
     "execution_count": 16,
     "metadata": {},
     "output_type": "execute_result"
    }
   ],
   "source": [
    "# Expand the TAGS column by separating multi-genre entries\n",
    "data_genre_expanded = data.copy()\n",
    "data_genre_expanded['TAGS'] = data_genre_expanded['TAGS'].str.split(';')\n",
    "data_genre_expanded = data_genre_expanded.explode('TAGS')\n",
    "\n",
    "# Now, calculate the average duration per genre\n",
    "average_duration_per_genre = data_genre_expanded.groupby('TAGS')['DURATION'].mean()\n",
    "\n",
    "average_duration_per_genre"
   ]
  },
  {
   "cell_type": "markdown",
   "metadata": {},
   "source": [
    "## Copying remained songs into new directory - not necessary, I can use metadata file."
   ]
  },
  {
   "cell_type": "code",
   "execution_count": null,
   "metadata": {},
   "outputs": [],
   "source": [
    "# import pandas as pd\n",
    "# import os\n",
    "# import shutil\n",
    "\n",
    "# # Read the metadata CSV file\n",
    "# data = pd.read_csv('../../datasets/jamendo/metadata/reduced_audio_dataset_15_genres.csv')\n",
    "\n",
    "# # Original directory containing the folders '00' to '99'\n",
    "# original_directory = '../../datasets/jamendo/original_audio/'\n",
    "\n",
    "# # New directory to copy the files into\n",
    "# new_directory = '../../datasets/jamendo/reduced_audio_500/'\n",
    "\n",
    "# # Create the new directory if it doesn't exist\n",
    "# if not os.path.exists(new_directory):\n",
    "#     os.makedirs(new_directory)\n",
    "\n",
    "# # Iterate over each row in the DataFrame\n",
    "# for index, row in data.iterrows():\n",
    "#     # Get the PATH column, which has the relative path to the .mp3 file\n",
    "#     relative_path = row['PATH']  # e.g., '14/214.mp3'\n",
    "\n",
    "#     # Construct the full source path\n",
    "#     source_path = os.path.join(original_directory, relative_path)\n",
    "\n",
    "#     # Construct the destination path in the new directory\n",
    "#     dest_path = os.path.join(new_directory, relative_path)\n",
    "\n",
    "#     # Ensure the destination subdirectory exists\n",
    "#     dest_subdir = os.path.dirname(dest_path)\n",
    "#     if not os.path.exists(dest_subdir):\n",
    "#         os.makedirs(dest_subdir)\n",
    "\n",
    "#     # Copy the file if it exists\n",
    "#     if os.path.exists(source_path):\n",
    "#         shutil.copy2(source_path, dest_path)\n",
    "#     else:\n",
    "#         print(f\"File not found: {source_path}\")"
   ]
  }
 ],
 "metadata": {
  "kernelspec": {
   "display_name": "Python 3",
   "language": "python",
   "name": "python3"
  },
  "language_info": {
   "codemirror_mode": {
    "name": "ipython",
    "version": 3
   },
   "file_extension": ".py",
   "mimetype": "text/x-python",
   "name": "python",
   "nbconvert_exporter": "python",
   "pygments_lexer": "ipython3",
   "version": "3.12.8"
  }
 },
 "nbformat": 4,
 "nbformat_minor": 2
}
