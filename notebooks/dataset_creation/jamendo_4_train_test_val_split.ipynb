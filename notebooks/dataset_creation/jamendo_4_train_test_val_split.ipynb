{
 "cells": [
  {
   "cell_type": "markdown",
   "metadata": {},
   "source": [
    "# Splitting dataset into train, test and valid subsets "
   ]
  },
  {
   "cell_type": "code",
   "execution_count": 13,
   "metadata": {},
   "outputs": [],
   "source": [
    "import pandas as pd\n",
    "import numpy as np\n",
    "from sklearn.model_selection import train_test_split\n",
    "import os\n",
    "import shutil"
   ]
  },
  {
   "cell_type": "code",
   "execution_count": 14,
   "metadata": {},
   "outputs": [],
   "source": [
    "import pandas as pd\n",
    "import numpy as np\n",
    "import os\n",
    "import shutil\n",
    "\n",
    "def split_dataset_and_files(metadata_path, audio_folder, output_folder, train_ratio=0.7, val_ratio=0.2, test_ratio=0.1):\n",
    "    \"\"\"\n",
    "    Podziel zbiór danych na zbiory treningowy, walidacyjny i testowy\n",
    "    z uwzględnieniem wymagań dotyczących artystów i utworów oraz przenieś pliki audio\n",
    "    do odpowiadających im folderów.\n",
    "    \"\"\"\n",
    "    # Wczytaj dane\n",
    "    metadata = pd.read_csv(metadata_path)\n",
    "\n",
    "    # Sprawdzenie poprawności proporcji\n",
    "    if not np.isclose(train_ratio + val_ratio + test_ratio, 1.0):\n",
    "        raise ValueError(\"Proporcje zbiorów muszą sumować się do 1.0\")\n",
    "    \n",
    "    # Grupuj dane po artystach\n",
    "    artist_groups = metadata.groupby('artist_id')\n",
    "\n",
    "    # Losowy podział artystów na zbiory\n",
    "    artist_ids = list(artist_groups.groups.keys())\n",
    "    np.random.shuffle(artist_ids)\n",
    "    \n",
    "    train_end = int(len(artist_ids) * train_ratio)\n",
    "    val_end = train_end + int(len(artist_ids) * val_ratio)\n",
    "\n",
    "    train_artists = artist_ids[:train_end]\n",
    "    val_artists = artist_ids[train_end:val_end]\n",
    "    test_artists = artist_ids[val_end:]\n",
    "\n",
    "    # Tworzenie zbiorów\n",
    "    train_data = metadata[metadata['artist_id'].isin(train_artists)]\n",
    "    val_data = metadata[metadata['artist_id'].isin(val_artists)]\n",
    "    test_data = metadata[metadata['artist_id'].isin(test_artists)]\n",
    "\n",
    "    # Walidacja podziału\n",
    "    assert len(train_data) + len(val_data) + len(test_data) == len(metadata), \\\n",
    "        \"Suma zbiorów nie zgadza się z całkowitą liczbą danych\"\n",
    "\n",
    "    # Tworzenie folderów wyjściowych\n",
    "    os.makedirs(os.path.join(output_folder, \"train\"), exist_ok=True)\n",
    "    os.makedirs(os.path.join(output_folder, \"val\"), exist_ok=True)\n",
    "    os.makedirs(os.path.join(output_folder, \"test\"), exist_ok=True)\n",
    "\n",
    "    # Funkcja do kopiowania plików do odpowiednich folderów\n",
    "    def move_files(data, folder):\n",
    "        for _, row in data.iterrows():\n",
    "            src = os.path.join(audio_folder, os.path.basename(row['path']))\n",
    "            dest = os.path.join(output_folder, folder, os.path.basename(row['path']))\n",
    "            if os.path.exists(src):\n",
    "                shutil.copy(src, dest)\n",
    "            else:\n",
    "                print(f\"Plik {src} nie istnieje i zostanie pominięty.\")\n",
    "\n",
    "    # Przenoszenie plików\n",
    "    print(\"Przenoszenie plików do folderu 'train'...\")\n",
    "    move_files(train_data, \"train\")\n",
    "    print(\"Przenoszenie plików do folderu 'val'...\")\n",
    "    move_files(val_data, \"val\")\n",
    "    print(\"Przenoszenie plików do folderu 'test'...\")\n",
    "    move_files(test_data, \"test\")\n",
    "\n",
    "    return train_data, val_data, test_data"
   ]
  },
  {
   "cell_type": "code",
   "execution_count": 15,
   "metadata": {},
   "outputs": [
    {
     "name": "stdout",
     "output_type": "stream",
     "text": [
      "Przenoszenie plików do folderu 'train'...\n",
      "Przenoszenie plików do folderu 'val'...\n",
      "Przenoszenie plików do folderu 'test'...\n",
      "Zbiory danych i pliki audio zostały podzielone i zapisane:\n",
      "- Zbiór treningowy: 32226 przykładów\n",
      "- Zbiór walidacyjny: 11482 przykładów\n",
      "- Zbiór testowy: 6299 przykładów\n"
     ]
    }
   ],
   "source": [
    "# Ustawienia ścieżki i proporcji\n",
    "metadata_path = \"../../datasets/jamendo/metadata/processed_audio_metadata.csv\"\n",
    "audio_folder = \"../../datasets/jamendo/processed_audio/\"\n",
    "output_folder = \"../../datasets/jamendo/split_audio/\"\n",
    "train_ratio = 0.7\n",
    "val_ratio = 0.2\n",
    "test_ratio = 0.1\n",
    "\n",
    "# Podział danych i plików\n",
    "train_data, val_data, test_data = split_dataset_and_files(metadata_path, audio_folder, output_folder, train_ratio, val_ratio, test_ratio)\n",
    "\n",
    "# Zapis do plików CSV\n",
    "train_data.to_csv(\"../../datasets/jamendo/metadata/train_metadata.csv\", index=False)\n",
    "val_data.to_csv(\"../../datasets/jamendo/metadata/val_metadata.csv\", index=False)\n",
    "test_data.to_csv(\"../../datasets/jamendo/metadata/test_metadata.csv\", index=False)\n",
    "\n",
    "print(\"Zbiory danych i pliki audio zostały podzielone i zapisane:\")\n",
    "print(f\"- Zbiór treningowy: {len(train_data)} przykładów\")\n",
    "print(f\"- Zbiór walidacyjny: {len(val_data)} przykładów\")\n",
    "print(f\"- Zbiór testowy: {len(test_data)} przykładów\")"
   ]
  },
  {
   "cell_type": "code",
   "execution_count": null,
   "metadata": {},
   "outputs": [],
   "source": []
  }
 ],
 "metadata": {
  "kernelspec": {
   "display_name": ".venv",
   "language": "python",
   "name": "python3"
  },
  "language_info": {
   "codemirror_mode": {
    "name": "ipython",
    "version": 3
   },
   "file_extension": ".py",
   "mimetype": "text/x-python",
   "name": "python",
   "nbconvert_exporter": "python",
   "pygments_lexer": "ipython3",
   "version": "3.9.13"
  }
 },
 "nbformat": 4,
 "nbformat_minor": 2
}
