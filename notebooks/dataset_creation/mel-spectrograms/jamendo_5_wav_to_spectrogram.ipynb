{
 "cells": [
  {
   "cell_type": "markdown",
   "metadata": {},
   "source": [
    "# Converting `.wav` dataset (train, test, split) to mel-spectrogram `.npy` dataset "
   ]
  },
  {
   "cell_type": "code",
   "execution_count": 4,
   "metadata": {},
   "outputs": [],
   "source": [
    "import os\n",
    "import numpy as np\n",
    "import librosa\n",
    "from tqdm import tqdm"
   ]
  },
  {
   "cell_type": "code",
   "execution_count": 8,
   "metadata": {},
   "outputs": [],
   "source": [
    "# Funkcja do generowania mel-spektrogramu i zapisu jako .npy\n",
    "def generate_and_save_melspec(file_path, output_path):\n",
    "    try:\n",
    "        # Wczytanie pliku audio\n",
    "        y, sr = librosa.load(file_path, sr=None)\n",
    "        # Generowanie mel-spektrogramu\n",
    "        melspec = librosa.feature.melspectrogram(y=y, sr=sr, n_mels=128, fmax=8000)\n",
    "        melspec_db = librosa.power_to_db(melspec, ref=np.max)\n",
    "        # Zapis do pliku .npy\n",
    "        np.save(output_path, melspec_db)\n",
    "        # print(f\"Zapisano: {output_path}\")\n",
    "    except Exception as e:\n",
    "        print(f\"Błąd przetwarzania {file_path}: {e}\")\n",
    "\n",
    "# Przetwarzanie katalogów\n",
    "def process_folders(source, target):\n",
    "    for root, dirs, files in os.walk(source):\n",
    "        # Tworzenie równoległej struktury katalogów w folderze docelowym\n",
    "        relative_path = os.path.relpath(root, source)\n",
    "        target_dir = os.path.join(target, relative_path)\n",
    "        os.makedirs(target_dir, exist_ok=True)\n",
    "\n",
    "        # Przetwarzanie plików .wav z paskiem postępu\n",
    "        wav_files = [file for file in files if file.endswith('.wav')]\n",
    "        for file in tqdm(wav_files, desc=f\"Przetwarzanie folderu: {relative_path}\", unit=\"plik\"):\n",
    "            source_file = os.path.join(root, file)\n",
    "            target_file = os.path.join(target_dir, file.replace('.wav', '.npy'))\n",
    "            result = generate_and_save_melspec(source_file, target_file)"
   ]
  },
  {
   "cell_type": "code",
   "execution_count": 9,
   "metadata": {},
   "outputs": [
    {
     "name": "stderr",
     "output_type": "stream",
     "text": [
      "Przetwarzanie folderu: .: 0plik [00:00, ?plik/s]\n",
      "Przetwarzanie folderu: test: 100%|██████████| 6299/6299 [11:17<00:00,  9.30plik/s]\n",
      "Przetwarzanie folderu: train: 100%|██████████| 32226/32226 [1:01:09<00:00,  8.78plik/s]\n",
      "Przetwarzanie folderu: val: 100%|██████████| 11482/11482 [21:34<00:00,  8.87plik/s]\n"
     ]
    }
   ],
   "source": [
    "source_path = '../../../datasets/jamendo/split_audio/'\n",
    "target_path = '../../../datasets/jamendo/split_melspec/'\n",
    "\n",
    "# Wywołanie funkcji\n",
    "process_folders(source_path, target_path)"
   ]
  },
  {
   "cell_type": "code",
   "execution_count": null,
   "metadata": {},
   "outputs": [],
   "source": []
  }
 ],
 "metadata": {
  "kernelspec": {
   "display_name": ".venv",
   "language": "python",
   "name": "python3"
  },
  "language_info": {
   "codemirror_mode": {
    "name": "ipython",
    "version": 3
   },
   "file_extension": ".py",
   "mimetype": "text/x-python",
   "name": "python",
   "nbconvert_exporter": "python",
   "pygments_lexer": "ipython3",
   "version": "3.9.13"
  }
 },
 "nbformat": 4,
 "nbformat_minor": 2
}
