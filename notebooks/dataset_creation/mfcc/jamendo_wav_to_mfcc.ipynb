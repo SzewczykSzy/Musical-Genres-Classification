{
 "cells": [
  {
   "cell_type": "code",
   "execution_count": 3,
   "metadata": {},
   "outputs": [],
   "source": [
    "import os\n",
    "import numpy as np\n",
    "import librosa\n",
    "import concurrent.futures\n",
    "from tqdm import tqdm"
   ]
  },
  {
   "cell_type": "code",
   "execution_count": 4,
   "metadata": {},
   "outputs": [],
   "source": [
    "def generate_and_save_mfcc(source_file, target_file):\n",
    "    \"\"\"\n",
    "    Wczytuje plik MP3 (source_file),\n",
    "    generuje MFCC,\n",
    "    zapisuje do pliku .npy (target_file).\n",
    "    \"\"\"\n",
    "    try:\n",
    "        # Wczytanie pliku audio\n",
    "        y, sr = librosa.load(source_file, sr=None)\n",
    "        \n",
    "        # Generowanie MFCC (np. 20 współczynników)\n",
    "        mfcc = librosa.feature.mfcc(y=y, sr=sr, n_mfcc=13)\n",
    "        \n",
    "        # Zapis do pliku .npy\n",
    "        np.save(target_file, mfcc)\n",
    "    except Exception as e:\n",
    "        print(f\"[BŁĄD] Przetwarzanie pliku {source_file}: {e}\")\n",
    "\n",
    "def process_folders_mfcc(source_folder, target_folder, max_workers=4):\n",
    "    \"\"\"\n",
    "    Rekurencyjnie przeszukuje katalog 'source_folder' w poszukiwaniu plików .mp3,\n",
    "    generuje MFCC i zapisuje do .npy w analogicznej strukturze katalogów 'target_folder'.\n",
    "    \n",
    "    Wykorzystuje wielowątkowość (ThreadPoolExecutor) i pasek postępu (tqdm).\n",
    "    \"\"\"\n",
    "\n",
    "    # Zgromadzimy listę plików (source -> target) do przetworzenia\n",
    "    tasks = []\n",
    "    \n",
    "    for root, dirs, files in os.walk(source_folder):\n",
    "        # Obliczamy relatywną ścieżkę względem katalogu źródłowego\n",
    "        relative_path = os.path.relpath(root, source_folder)\n",
    "        \n",
    "        # Ścieżka docelowa (ten sam subfolder)\n",
    "        target_dir = os.path.join(target_folder, relative_path)\n",
    "        os.makedirs(target_dir, exist_ok=True)\n",
    "\n",
    "        # Wybieramy pliki mp3 w danym folderze\n",
    "        mp3_files = [f for f in files if f.lower().endswith('.mp3')]\n",
    "        \n",
    "        for filename in mp3_files:\n",
    "            source_file = os.path.join(root, filename)\n",
    "            \n",
    "            # nazwa docelowego pliku (zamieniamy .mp3 -> .npy)\n",
    "            base_name = os.path.splitext(filename)[0]\n",
    "            target_file = os.path.join(target_dir, base_name + '.npy')\n",
    "            \n",
    "            tasks.append((source_file, target_file))\n",
    "    \n",
    "    # Teraz przetwarzamy z użyciem wątków i paska postępu\n",
    "    with concurrent.futures.ThreadPoolExecutor(max_workers=max_workers) as executor:\n",
    "        # map pozwala nam zrównoleglić generate_and_save_mfcc\n",
    "        # tqdm do paska postępu\n",
    "        results = list(tqdm(\n",
    "            executor.map(lambda x: generate_and_save_mfcc(x[0], x[1]), tasks),\n",
    "            total=len(tasks),\n",
    "            desc=\"Przetwarzanie plików (MFCC)\",\n",
    "            unit=\"plik\"\n",
    "        ))\n",
    "    \n",
    "    print(f\"Zakończono przetwarzanie MFCC. Łącznie plików: {len(tasks)}\")"
   ]
  },
  {
   "cell_type": "code",
   "execution_count": 5,
   "metadata": {},
   "outputs": [
    {
     "name": "stderr",
     "output_type": "stream",
     "text": [
      "Przetwarzanie plików (MFCC): 100%|██████████| 39097/39097 [06:37<00:00, 98.34plik/s] "
     ]
    },
    {
     "name": "stdout",
     "output_type": "stream",
     "text": [
      "Zakończono przetwarzanie MFCC. Łącznie plików: 39097\n"
     ]
    },
    {
     "name": "stderr",
     "output_type": "stream",
     "text": [
      "\n"
     ]
    }
   ],
   "source": [
    "source_path = \"../../../datasets/jamendo/split_audio_dataset/\"\n",
    "target_path = \"../../../datasets/jamendo/split_mfcc/\"\n",
    "\n",
    "process_folders_mfcc(source_path, target_path, max_workers=6)"
   ]
  }
 ],
 "metadata": {
  "kernelspec": {
   "display_name": "Python 3",
   "language": "python",
   "name": "python3"
  },
  "language_info": {
   "codemirror_mode": {
    "name": "ipython",
    "version": 3
   },
   "file_extension": ".py",
   "mimetype": "text/x-python",
   "name": "python",
   "nbconvert_exporter": "python",
   "pygments_lexer": "ipython3",
   "version": "3.12.8"
  }
 },
 "nbformat": 4,
 "nbformat_minor": 2
}
