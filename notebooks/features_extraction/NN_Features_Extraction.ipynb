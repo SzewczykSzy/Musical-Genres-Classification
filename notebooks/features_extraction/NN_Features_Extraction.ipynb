{
 "cells": [
  {
   "cell_type": "markdown",
   "metadata": {},
   "source": [
    "# Notebook of creating pandas Dataframe with possible features to train some Neural Network"
   ]
  },
  {
   "cell_type": "code",
   "execution_count": 2,
   "metadata": {},
   "outputs": [],
   "source": [
    "import librosa\n",
    "import numpy as np\n",
    "import pandas as pd\n",
    "import matplotlib.pyplot as plt"
   ]
  },
  {
   "cell_type": "code",
   "execution_count": 3,
   "metadata": {},
   "outputs": [
    {
     "name": "stderr",
     "output_type": "stream",
     "text": [
      "C:\\Users\\szyme\\AppData\\Local\\Temp\\ipykernel_13012\\3709863975.py:1: DtypeWarning: Columns (0,1,2,3,4,5,6,7,8,9,10,11,12,13,14,15,16,17,18,19,20,21,22,23,24,25,26,27,28,29,30,31,32,33,34,35,36,37,38,39,40,41,42,43,44,45,46,47,48,49,50,51,52,53,54,55,56,57,58,59,60,61,62,63,64,65,66,67,68,69,70,71,72,73,74,75,76,77,78,79,80,81,82,83,84,85,86,87,88,89,90,91,92,93,94,95,96,97,98,99,100,101,102,103,104,105,106,107,108,109,110,111,112,113,114,115,116,117,118,119,120,121,122,123,124,125,126,127,128,129,130,131,132,133,134,135,136,137,138,139,140,141,142,143,144,145,146,147,148,149,150,151,152,153,154,155,156,157,158,159,160,161,162,163,164,165,166,167,168,169,170,171,172,173,174,175,176,177,178,179,180,181,182,183,184,185,186,187,188,189,190,191,192,193,194,195,196,197,198,199,200,201,202,203,204,205,206,207,208,209,210,211,212,213,214,215,216,217,218,219,220,221,222,223,224,225,226,227,228,229,230,231,232,233,234,235,236,237,238,239,240,241,242,243,244,245,246,247,248,249,250,251,252,253,254,255,256,257,258,259,260,261,262,263,264,265,266,267,268,269,270,271,272,273,274,275,276,277,278,279,280,281,282,283,284,285,286,287,288,289,290,291,292,293,294,295,296,297,298,299,300,301,302,303,304,305,306,307,308,309,310,311,312,313,314,315,316,317,318,319,320,321,322,323,324,325,326,327,328,329,330,331,332,333,334,335,336,337,338,339,340,341,342,343,344,345,346,347,348,349,350,351,352,353,354,355,356,357,358,359,360,361,362,363,364,365,366,367,368,369,370,371,372,373,374,375,376,377,378,379,380,381,382,383,384,385,386,387,388,389,390,391,392,393,394,395,396,397,398,399,400,401,402,403,404,405,406,407,408,409,410,411,412,413,414,415,416,417,418,419,420,421,422,423,424,425,426,427,428,429,430,431,432,433,434,435,436,437,438,439,440,441,442,443,444,445,446,447,448,449,450,451,452,453,454,455,456,457,458,459,460,461,462,463,464,465,466,467,468,469,470,471,472,473,474,475,476,477,478,479,480,481,482,483,484,485,486,487,488,489,490,491,492,493,494,495,496,497,498,499,500,501,502,503,504,505,506,507,508,509,510,511,512,513,514,515,516,517,518) have mixed types. Specify dtype option on import or set low_memory=False.\n",
      "  example_features = pd.read_csv('../../datasets/fma/fma_metadata/features.csv')\n"
     ]
    }
   ],
   "source": [
    "example_features = pd.read_csv('../../datasets/fma/fma_metadata/features.csv')"
   ]
  },
  {
   "cell_type": "code",
   "execution_count": 4,
   "metadata": {},
   "outputs": [
    {
     "data": {
      "text/html": [
       "<div>\n",
       "<style scoped>\n",
       "    .dataframe tbody tr th:only-of-type {\n",
       "        vertical-align: middle;\n",
       "    }\n",
       "\n",
       "    .dataframe tbody tr th {\n",
       "        vertical-align: top;\n",
       "    }\n",
       "\n",
       "    .dataframe thead th {\n",
       "        text-align: right;\n",
       "    }\n",
       "</style>\n",
       "<table border=\"1\" class=\"dataframe\">\n",
       "  <thead>\n",
       "    <tr style=\"text-align: right;\">\n",
       "      <th></th>\n",
       "      <th>feature</th>\n",
       "      <th>chroma_cens</th>\n",
       "      <th>chroma_cens.1</th>\n",
       "      <th>chroma_cens.2</th>\n",
       "      <th>chroma_cens.3</th>\n",
       "      <th>chroma_cens.4</th>\n",
       "      <th>chroma_cens.5</th>\n",
       "      <th>chroma_cens.6</th>\n",
       "      <th>chroma_cens.7</th>\n",
       "      <th>chroma_cens.8</th>\n",
       "      <th>...</th>\n",
       "      <th>tonnetz.39</th>\n",
       "      <th>tonnetz.40</th>\n",
       "      <th>tonnetz.41</th>\n",
       "      <th>zcr</th>\n",
       "      <th>zcr.1</th>\n",
       "      <th>zcr.2</th>\n",
       "      <th>zcr.3</th>\n",
       "      <th>zcr.4</th>\n",
       "      <th>zcr.5</th>\n",
       "      <th>zcr.6</th>\n",
       "    </tr>\n",
       "  </thead>\n",
       "  <tbody>\n",
       "    <tr>\n",
       "      <th>0</th>\n",
       "      <td>statistics</td>\n",
       "      <td>kurtosis</td>\n",
       "      <td>kurtosis</td>\n",
       "      <td>kurtosis</td>\n",
       "      <td>kurtosis</td>\n",
       "      <td>kurtosis</td>\n",
       "      <td>kurtosis</td>\n",
       "      <td>kurtosis</td>\n",
       "      <td>kurtosis</td>\n",
       "      <td>kurtosis</td>\n",
       "      <td>...</td>\n",
       "      <td>std</td>\n",
       "      <td>std</td>\n",
       "      <td>std</td>\n",
       "      <td>kurtosis</td>\n",
       "      <td>max</td>\n",
       "      <td>mean</td>\n",
       "      <td>median</td>\n",
       "      <td>min</td>\n",
       "      <td>skew</td>\n",
       "      <td>std</td>\n",
       "    </tr>\n",
       "    <tr>\n",
       "      <th>1</th>\n",
       "      <td>number</td>\n",
       "      <td>01</td>\n",
       "      <td>02</td>\n",
       "      <td>03</td>\n",
       "      <td>04</td>\n",
       "      <td>05</td>\n",
       "      <td>06</td>\n",
       "      <td>07</td>\n",
       "      <td>08</td>\n",
       "      <td>09</td>\n",
       "      <td>...</td>\n",
       "      <td>04</td>\n",
       "      <td>05</td>\n",
       "      <td>06</td>\n",
       "      <td>01</td>\n",
       "      <td>01</td>\n",
       "      <td>01</td>\n",
       "      <td>01</td>\n",
       "      <td>01</td>\n",
       "      <td>01</td>\n",
       "      <td>01</td>\n",
       "    </tr>\n",
       "    <tr>\n",
       "      <th>2</th>\n",
       "      <td>track_id</td>\n",
       "      <td>NaN</td>\n",
       "      <td>NaN</td>\n",
       "      <td>NaN</td>\n",
       "      <td>NaN</td>\n",
       "      <td>NaN</td>\n",
       "      <td>NaN</td>\n",
       "      <td>NaN</td>\n",
       "      <td>NaN</td>\n",
       "      <td>NaN</td>\n",
       "      <td>...</td>\n",
       "      <td>NaN</td>\n",
       "      <td>NaN</td>\n",
       "      <td>NaN</td>\n",
       "      <td>NaN</td>\n",
       "      <td>NaN</td>\n",
       "      <td>NaN</td>\n",
       "      <td>NaN</td>\n",
       "      <td>NaN</td>\n",
       "      <td>NaN</td>\n",
       "      <td>NaN</td>\n",
       "    </tr>\n",
       "    <tr>\n",
       "      <th>3</th>\n",
       "      <td>2</td>\n",
       "      <td>7.1806526184e+00</td>\n",
       "      <td>5.2303090096e+00</td>\n",
       "      <td>2.4932080507e-01</td>\n",
       "      <td>1.3476201296e+00</td>\n",
       "      <td>1.4824777842e+00</td>\n",
       "      <td>5.3137123585e-01</td>\n",
       "      <td>1.4815930128e+00</td>\n",
       "      <td>2.6914546490e+00</td>\n",
       "      <td>8.6686819792e-01</td>\n",
       "      <td>...</td>\n",
       "      <td>5.4125156254e-02</td>\n",
       "      <td>1.2225749902e-02</td>\n",
       "      <td>1.2110591866e-02</td>\n",
       "      <td>5.7588901520e+00</td>\n",
       "      <td>4.5947265625e-01</td>\n",
       "      <td>8.5629448295e-02</td>\n",
       "      <td>7.1289062500e-02</td>\n",
       "      <td>0.0000000000e+00</td>\n",
       "      <td>2.0898721218e+00</td>\n",
       "      <td>6.1448108405e-02</td>\n",
       "    </tr>\n",
       "    <tr>\n",
       "      <th>4</th>\n",
       "      <td>3</td>\n",
       "      <td>1.8889633417e+00</td>\n",
       "      <td>7.6053929329e-01</td>\n",
       "      <td>3.4529656172e-01</td>\n",
       "      <td>2.2952005863e+00</td>\n",
       "      <td>1.6540306807e+00</td>\n",
       "      <td>6.7592434585e-02</td>\n",
       "      <td>1.3668476343e+00</td>\n",
       "      <td>1.0540937185e+00</td>\n",
       "      <td>1.0810308903e-01</td>\n",
       "      <td>...</td>\n",
       "      <td>6.3831120729e-02</td>\n",
       "      <td>1.4211839065e-02</td>\n",
       "      <td>1.7740072682e-02</td>\n",
       "      <td>2.8246941566e+00</td>\n",
       "      <td>4.6630859375e-01</td>\n",
       "      <td>8.4578499198e-02</td>\n",
       "      <td>6.3964843750e-02</td>\n",
       "      <td>0.0000000000e+00</td>\n",
       "      <td>1.7167237997e+00</td>\n",
       "      <td>6.9330163300e-02</td>\n",
       "    </tr>\n",
       "  </tbody>\n",
       "</table>\n",
       "<p>5 rows × 519 columns</p>\n",
       "</div>"
      ],
      "text/plain": [
       "      feature       chroma_cens     chroma_cens.1     chroma_cens.2  \\\n",
       "0  statistics          kurtosis          kurtosis          kurtosis   \n",
       "1      number                01                02                03   \n",
       "2    track_id               NaN               NaN               NaN   \n",
       "3           2  7.1806526184e+00  5.2303090096e+00  2.4932080507e-01   \n",
       "4           3  1.8889633417e+00  7.6053929329e-01  3.4529656172e-01   \n",
       "\n",
       "      chroma_cens.3     chroma_cens.4     chroma_cens.5     chroma_cens.6  \\\n",
       "0          kurtosis          kurtosis          kurtosis          kurtosis   \n",
       "1                04                05                06                07   \n",
       "2               NaN               NaN               NaN               NaN   \n",
       "3  1.3476201296e+00  1.4824777842e+00  5.3137123585e-01  1.4815930128e+00   \n",
       "4  2.2952005863e+00  1.6540306807e+00  6.7592434585e-02  1.3668476343e+00   \n",
       "\n",
       "      chroma_cens.7     chroma_cens.8  ...        tonnetz.39  \\\n",
       "0          kurtosis          kurtosis  ...               std   \n",
       "1                08                09  ...                04   \n",
       "2               NaN               NaN  ...               NaN   \n",
       "3  2.6914546490e+00  8.6686819792e-01  ...  5.4125156254e-02   \n",
       "4  1.0540937185e+00  1.0810308903e-01  ...  6.3831120729e-02   \n",
       "\n",
       "         tonnetz.40        tonnetz.41               zcr             zcr.1  \\\n",
       "0               std               std          kurtosis               max   \n",
       "1                05                06                01                01   \n",
       "2               NaN               NaN               NaN               NaN   \n",
       "3  1.2225749902e-02  1.2110591866e-02  5.7588901520e+00  4.5947265625e-01   \n",
       "4  1.4211839065e-02  1.7740072682e-02  2.8246941566e+00  4.6630859375e-01   \n",
       "\n",
       "              zcr.2             zcr.3             zcr.4             zcr.5  \\\n",
       "0              mean            median               min              skew   \n",
       "1                01                01                01                01   \n",
       "2               NaN               NaN               NaN               NaN   \n",
       "3  8.5629448295e-02  7.1289062500e-02  0.0000000000e+00  2.0898721218e+00   \n",
       "4  8.4578499198e-02  6.3964843750e-02  0.0000000000e+00  1.7167237997e+00   \n",
       "\n",
       "              zcr.6  \n",
       "0               std  \n",
       "1                01  \n",
       "2               NaN  \n",
       "3  6.1448108405e-02  \n",
       "4  6.9330163300e-02  \n",
       "\n",
       "[5 rows x 519 columns]"
      ]
     },
     "execution_count": 4,
     "metadata": {},
     "output_type": "execute_result"
    }
   ],
   "source": [
    "example_features.head()"
   ]
  },
  {
   "cell_type": "code",
   "execution_count": 65,
   "metadata": {},
   "outputs": [
    {
     "name": "stdout",
     "output_type": "stream",
     "text": [
      "Index(['feature', 'chroma_cens', 'chroma_cens.1', 'chroma_cens.2',\n",
      "       'chroma_cens.3', 'chroma_cens.4', 'chroma_cens.5', 'chroma_cens.6',\n",
      "       'chroma_cens.7', 'chroma_cens.8', 'chroma_cens.9', 'chroma_cens.10',\n",
      "       'chroma_cens.11', 'chroma_cens.12', 'chroma_cens.13', 'chroma_cens.14',\n",
      "       'chroma_cens.15', 'chroma_cens.16', 'chroma_cens.17', 'chroma_cens.18',\n",
      "       'chroma_cens.19', 'chroma_cens.20', 'chroma_cens.21', 'chroma_cens.22',\n",
      "       'chroma_cens.23', 'chroma_cens.24', 'chroma_cens.25', 'chroma_cens.26',\n",
      "       'chroma_cens.27', 'chroma_cens.28', 'chroma_cens.29', 'chroma_cens.30',\n",
      "       'chroma_cens.31', 'chroma_cens.32', 'chroma_cens.33', 'chroma_cens.34',\n",
      "       'chroma_cens.35', 'chroma_cens.36', 'chroma_cens.37', 'chroma_cens.38',\n",
      "       'chroma_cens.39', 'chroma_cens.40', 'chroma_cens.41', 'chroma_cens.42',\n",
      "       'chroma_cens.43', 'chroma_cens.44', 'chroma_cens.45', 'chroma_cens.46',\n",
      "       'chroma_cens.47', 'chroma_cens.48'],\n",
      "      dtype='object')\n",
      "Index(['chroma_cens.49', 'chroma_cens.50', 'chroma_cens.51', 'chroma_cens.52',\n",
      "       'chroma_cens.53', 'chroma_cens.54', 'chroma_cens.55', 'chroma_cens.56',\n",
      "       'chroma_cens.57', 'chroma_cens.58', 'chroma_cens.59', 'chroma_cens.60',\n",
      "       'chroma_cens.61', 'chroma_cens.62', 'chroma_cens.63', 'chroma_cens.64',\n",
      "       'chroma_cens.65', 'chroma_cens.66', 'chroma_cens.67', 'chroma_cens.68',\n",
      "       'chroma_cens.69', 'chroma_cens.70', 'chroma_cens.71', 'chroma_cens.72',\n",
      "       'chroma_cens.73', 'chroma_cens.74', 'chroma_cens.75', 'chroma_cens.76',\n",
      "       'chroma_cens.77', 'chroma_cens.78', 'chroma_cens.79', 'chroma_cens.80',\n",
      "       'chroma_cens.81', 'chroma_cens.82', 'chroma_cens.83', 'chroma_cqt',\n",
      "       'chroma_cqt.1', 'chroma_cqt.2', 'chroma_cqt.3', 'chroma_cqt.4',\n",
      "       'chroma_cqt.5', 'chroma_cqt.6', 'chroma_cqt.7', 'chroma_cqt.8',\n",
      "       'chroma_cqt.9', 'chroma_cqt.10', 'chroma_cqt.11', 'chroma_cqt.12',\n",
      "       'chroma_cqt.13', 'chroma_cqt.14'],\n",
      "      dtype='object')\n",
      "Index(['chroma_cqt.15', 'chroma_cqt.16', 'chroma_cqt.17', 'chroma_cqt.18',\n",
      "       'chroma_cqt.19', 'chroma_cqt.20', 'chroma_cqt.21', 'chroma_cqt.22',\n",
      "       'chroma_cqt.23', 'chroma_cqt.24', 'chroma_cqt.25', 'chroma_cqt.26',\n",
      "       'chroma_cqt.27', 'chroma_cqt.28', 'chroma_cqt.29', 'chroma_cqt.30',\n",
      "       'chroma_cqt.31', 'chroma_cqt.32', 'chroma_cqt.33', 'chroma_cqt.34',\n",
      "       'chroma_cqt.35', 'chroma_cqt.36', 'chroma_cqt.37', 'chroma_cqt.38',\n",
      "       'chroma_cqt.39', 'chroma_cqt.40', 'chroma_cqt.41', 'chroma_cqt.42',\n",
      "       'chroma_cqt.43', 'chroma_cqt.44', 'chroma_cqt.45', 'chroma_cqt.46',\n",
      "       'chroma_cqt.47', 'chroma_cqt.48', 'chroma_cqt.49', 'chroma_cqt.50',\n",
      "       'chroma_cqt.51', 'chroma_cqt.52', 'chroma_cqt.53', 'chroma_cqt.54',\n",
      "       'chroma_cqt.55', 'chroma_cqt.56', 'chroma_cqt.57', 'chroma_cqt.58',\n",
      "       'chroma_cqt.59', 'chroma_cqt.60', 'chroma_cqt.61', 'chroma_cqt.62',\n",
      "       'chroma_cqt.63', 'chroma_cqt.64'],\n",
      "      dtype='object')\n",
      "Index(['chroma_cqt.65', 'chroma_cqt.66', 'chroma_cqt.67', 'chroma_cqt.68',\n",
      "       'chroma_cqt.69', 'chroma_cqt.70', 'chroma_cqt.71', 'chroma_cqt.72',\n",
      "       'chroma_cqt.73', 'chroma_cqt.74', 'chroma_cqt.75', 'chroma_cqt.76',\n",
      "       'chroma_cqt.77', 'chroma_cqt.78', 'chroma_cqt.79', 'chroma_cqt.80',\n",
      "       'chroma_cqt.81', 'chroma_cqt.82', 'chroma_cqt.83', 'chroma_stft',\n",
      "       'chroma_stft.1', 'chroma_stft.2', 'chroma_stft.3', 'chroma_stft.4',\n",
      "       'chroma_stft.5', 'chroma_stft.6', 'chroma_stft.7', 'chroma_stft.8',\n",
      "       'chroma_stft.9', 'chroma_stft.10', 'chroma_stft.11', 'chroma_stft.12',\n",
      "       'chroma_stft.13', 'chroma_stft.14', 'chroma_stft.15', 'chroma_stft.16',\n",
      "       'chroma_stft.17', 'chroma_stft.18', 'chroma_stft.19', 'chroma_stft.20',\n",
      "       'chroma_stft.21', 'chroma_stft.22', 'chroma_stft.23', 'chroma_stft.24',\n",
      "       'chroma_stft.25', 'chroma_stft.26', 'chroma_stft.27', 'chroma_stft.28',\n",
      "       'chroma_stft.29', 'chroma_stft.30'],\n",
      "      dtype='object')\n",
      "Index(['chroma_stft.31', 'chroma_stft.32', 'chroma_stft.33', 'chroma_stft.34',\n",
      "       'chroma_stft.35', 'chroma_stft.36', 'chroma_stft.37', 'chroma_stft.38',\n",
      "       'chroma_stft.39', 'chroma_stft.40', 'chroma_stft.41', 'chroma_stft.42',\n",
      "       'chroma_stft.43', 'chroma_stft.44', 'chroma_stft.45', 'chroma_stft.46',\n",
      "       'chroma_stft.47', 'chroma_stft.48', 'chroma_stft.49', 'chroma_stft.50',\n",
      "       'chroma_stft.51', 'chroma_stft.52', 'chroma_stft.53', 'chroma_stft.54',\n",
      "       'chroma_stft.55', 'chroma_stft.56', 'chroma_stft.57', 'chroma_stft.58',\n",
      "       'chroma_stft.59', 'chroma_stft.60', 'chroma_stft.61', 'chroma_stft.62',\n",
      "       'chroma_stft.63', 'chroma_stft.64', 'chroma_stft.65', 'chroma_stft.66',\n",
      "       'chroma_stft.67', 'chroma_stft.68', 'chroma_stft.69', 'chroma_stft.70',\n",
      "       'chroma_stft.71', 'chroma_stft.72', 'chroma_stft.73', 'chroma_stft.74',\n",
      "       'chroma_stft.75', 'chroma_stft.76', 'chroma_stft.77', 'chroma_stft.78',\n",
      "       'chroma_stft.79', 'chroma_stft.80'],\n",
      "      dtype='object')\n",
      "Index(['chroma_stft.81', 'chroma_stft.82', 'chroma_stft.83', 'mfcc', 'mfcc.1',\n",
      "       'mfcc.2', 'mfcc.3', 'mfcc.4', 'mfcc.5', 'mfcc.6', 'mfcc.7', 'mfcc.8',\n",
      "       'mfcc.9', 'mfcc.10', 'mfcc.11', 'mfcc.12', 'mfcc.13', 'mfcc.14',\n",
      "       'mfcc.15', 'mfcc.16', 'mfcc.17', 'mfcc.18', 'mfcc.19', 'mfcc.20',\n",
      "       'mfcc.21', 'mfcc.22', 'mfcc.23', 'mfcc.24', 'mfcc.25', 'mfcc.26',\n",
      "       'mfcc.27', 'mfcc.28', 'mfcc.29', 'mfcc.30', 'mfcc.31', 'mfcc.32',\n",
      "       'mfcc.33', 'mfcc.34', 'mfcc.35', 'mfcc.36', 'mfcc.37', 'mfcc.38',\n",
      "       'mfcc.39', 'mfcc.40', 'mfcc.41', 'mfcc.42', 'mfcc.43', 'mfcc.44',\n",
      "       'mfcc.45', 'mfcc.46'],\n",
      "      dtype='object')\n",
      "Index(['mfcc.47', 'mfcc.48', 'mfcc.49', 'mfcc.50', 'mfcc.51', 'mfcc.52',\n",
      "       'mfcc.53', 'mfcc.54', 'mfcc.55', 'mfcc.56', 'mfcc.57', 'mfcc.58',\n",
      "       'mfcc.59', 'mfcc.60', 'mfcc.61', 'mfcc.62', 'mfcc.63', 'mfcc.64',\n",
      "       'mfcc.65', 'mfcc.66', 'mfcc.67', 'mfcc.68', 'mfcc.69', 'mfcc.70',\n",
      "       'mfcc.71', 'mfcc.72', 'mfcc.73', 'mfcc.74', 'mfcc.75', 'mfcc.76',\n",
      "       'mfcc.77', 'mfcc.78', 'mfcc.79', 'mfcc.80', 'mfcc.81', 'mfcc.82',\n",
      "       'mfcc.83', 'mfcc.84', 'mfcc.85', 'mfcc.86', 'mfcc.87', 'mfcc.88',\n",
      "       'mfcc.89', 'mfcc.90', 'mfcc.91', 'mfcc.92', 'mfcc.93', 'mfcc.94',\n",
      "       'mfcc.95', 'mfcc.96'],\n",
      "      dtype='object')\n",
      "Index(['mfcc.97', 'mfcc.98', 'mfcc.99', 'mfcc.100', 'mfcc.101', 'mfcc.102',\n",
      "       'mfcc.103', 'mfcc.104', 'mfcc.105', 'mfcc.106', 'mfcc.107', 'mfcc.108',\n",
      "       'mfcc.109', 'mfcc.110', 'mfcc.111', 'mfcc.112', 'mfcc.113', 'mfcc.114',\n",
      "       'mfcc.115', 'mfcc.116', 'mfcc.117', 'mfcc.118', 'mfcc.119', 'mfcc.120',\n",
      "       'mfcc.121', 'mfcc.122', 'mfcc.123', 'mfcc.124', 'mfcc.125', 'mfcc.126',\n",
      "       'mfcc.127', 'mfcc.128', 'mfcc.129', 'mfcc.130', 'mfcc.131', 'mfcc.132',\n",
      "       'mfcc.133', 'mfcc.134', 'mfcc.135', 'mfcc.136', 'mfcc.137', 'mfcc.138',\n",
      "       'mfcc.139', 'rmse', 'rmse.1', 'rmse.2', 'rmse.3', 'rmse.4', 'rmse.5',\n",
      "       'rmse.6'],\n",
      "      dtype='object')\n",
      "Index(['spectral_bandwidth', 'spectral_bandwidth.1', 'spectral_bandwidth.2',\n",
      "       'spectral_bandwidth.3', 'spectral_bandwidth.4', 'spectral_bandwidth.5',\n",
      "       'spectral_bandwidth.6', 'spectral_centroid', 'spectral_centroid.1',\n",
      "       'spectral_centroid.2', 'spectral_centroid.3', 'spectral_centroid.4',\n",
      "       'spectral_centroid.5', 'spectral_centroid.6', 'spectral_contrast',\n",
      "       'spectral_contrast.1', 'spectral_contrast.2', 'spectral_contrast.3',\n",
      "       'spectral_contrast.4', 'spectral_contrast.5', 'spectral_contrast.6',\n",
      "       'spectral_contrast.7', 'spectral_contrast.8', 'spectral_contrast.9',\n",
      "       'spectral_contrast.10', 'spectral_contrast.11', 'spectral_contrast.12',\n",
      "       'spectral_contrast.13', 'spectral_contrast.14', 'spectral_contrast.15',\n",
      "       'spectral_contrast.16', 'spectral_contrast.17', 'spectral_contrast.18',\n",
      "       'spectral_contrast.19', 'spectral_contrast.20', 'spectral_contrast.21',\n",
      "       'spectral_contrast.22', 'spectral_contrast.23', 'spectral_contrast.24',\n",
      "       'spectral_contrast.25', 'spectral_contrast.26', 'spectral_contrast.27',\n",
      "       'spectral_contrast.28', 'spectral_contrast.29', 'spectral_contrast.30',\n",
      "       'spectral_contrast.31', 'spectral_contrast.32', 'spectral_contrast.33',\n",
      "       'spectral_contrast.34', 'spectral_contrast.35'],\n",
      "      dtype='object')\n",
      "Index(['spectral_contrast.36', 'spectral_contrast.37', 'spectral_contrast.38',\n",
      "       'spectral_contrast.39', 'spectral_contrast.40', 'spectral_contrast.41',\n",
      "       'spectral_contrast.42', 'spectral_contrast.43', 'spectral_contrast.44',\n",
      "       'spectral_contrast.45', 'spectral_contrast.46', 'spectral_contrast.47',\n",
      "       'spectral_contrast.48', 'spectral_rolloff', 'spectral_rolloff.1',\n",
      "       'spectral_rolloff.2', 'spectral_rolloff.3', 'spectral_rolloff.4',\n",
      "       'spectral_rolloff.5', 'spectral_rolloff.6', 'tonnetz', 'tonnetz.1',\n",
      "       'tonnetz.2', 'tonnetz.3', 'tonnetz.4', 'tonnetz.5', 'tonnetz.6',\n",
      "       'tonnetz.7', 'tonnetz.8', 'tonnetz.9', 'tonnetz.10', 'tonnetz.11',\n",
      "       'tonnetz.12', 'tonnetz.13', 'tonnetz.14', 'tonnetz.15', 'tonnetz.16',\n",
      "       'tonnetz.17', 'tonnetz.18', 'tonnetz.19', 'tonnetz.20', 'tonnetz.21',\n",
      "       'tonnetz.22', 'tonnetz.23', 'tonnetz.24', 'tonnetz.25', 'tonnetz.26',\n",
      "       'tonnetz.27', 'tonnetz.28', 'tonnetz.29'],\n",
      "      dtype='object')\n"
     ]
    }
   ],
   "source": [
    "for i in range(10):\n",
    "    print(example_features.columns[i*50:(i+1)*50])"
   ]
  },
  {
   "cell_type": "markdown",
   "metadata": {},
   "source": [
    "# Possible Features\n",
    "For every linear feature we can extend received information by calculating:\n",
    "- mean\n",
    "- std\n",
    "- median\n",
    "- min\n",
    "- max\n",
    "\n",
    "For 2d arrays we can calculate it by some axises. For example 12 times Chroma Features."
   ]
  },
  {
   "cell_type": "code",
   "execution_count": 5,
   "metadata": {},
   "outputs": [],
   "source": [
    "def calculate_futures(name, values):\n",
    "    return"
   ]
  },
  {
   "cell_type": "code",
   "execution_count": 4,
   "metadata": {},
   "outputs": [],
   "source": [
    "y, sr = librosa.load('../../datasets/fma/fma_small/Hip-Hop/000002.mp3')"
   ]
  },
  {
   "cell_type": "markdown",
   "metadata": {},
   "source": [
    "## Chroma stft"
   ]
  },
  {
   "cell_type": "code",
   "execution_count": 6,
   "metadata": {},
   "outputs": [
    {
     "data": {
      "text/plain": [
       "array([0.9196675 , 0.40637162, 0.29712954, 0.2745009 , 0.21831428,\n",
       "       0.15204579, 0.19741958, 0.35440284, 0.29297513, 0.27465728,\n",
       "       0.3117491 , 0.48450035], dtype=float32)"
      ]
     },
     "execution_count": 6,
     "metadata": {},
     "output_type": "execute_result"
    }
   ],
   "source": [
    "chroma_stft = librosa.feature.chroma_stft(y=y, sr=sr, n_chroma=12)\n",
    "# np.mean(chroma_stft, axis=1)\n",
    "# np.std(chroma_stft, axis=1)\n",
    "np.median(chroma_stft, axis=1)\n",
    "# np.min(chroma_stft, axis=1)\n",
    "# np.max(chroma_stft, axis=1)"
   ]
  },
  {
   "cell_type": "markdown",
   "metadata": {},
   "source": [
    "## Chroma cqt"
   ]
  },
  {
   "cell_type": "code",
   "execution_count": 7,
   "metadata": {},
   "outputs": [
    {
     "data": {
      "text/plain": [
       "array([1.        , 0.6880701 , 0.64463836, 0.584162  , 0.61623794,\n",
       "       0.6833725 , 0.5926604 , 0.5920069 , 0.46416956, 0.4784519 ,\n",
       "       0.5086422 , 0.59332347], dtype=float32)"
      ]
     },
     "execution_count": 7,
     "metadata": {},
     "output_type": "execute_result"
    }
   ],
   "source": [
    "chroma_cqt = librosa.feature.chroma_cqt(y=y, sr=sr, n_chroma=12)\n",
    "# np.mean(chroma_cqt, axis=1)\n",
    "# np.std(chroma_cqt, axis=1)\n",
    "np.median(chroma_cqt, axis=1)\n",
    "# np.min(chroma_cqt, axis=1)\n",
    "# np.max(chroma_cqt, axis=1)"
   ]
  },
  {
   "cell_type": "markdown",
   "metadata": {},
   "source": [
    "## Chroma cens"
   ]
  },
  {
   "cell_type": "code",
   "execution_count": 9,
   "metadata": {},
   "outputs": [
    {
     "data": {
      "text/plain": [
       "array([0.95442134, 0.6741008 , 0.6360631 , 0.5646451 , 0.5884082 ,\n",
       "       0.6486219 , 0.594884  , 0.5931008 , 0.4669653 , 0.48265433,\n",
       "       0.5040411 , 0.5801074 ], dtype=float32)"
      ]
     },
     "execution_count": 9,
     "metadata": {},
     "output_type": "execute_result"
    }
   ],
   "source": [
    "chroma_cens = librosa.feature.chroma_cens(y=y, sr=sr)\n",
    "np.mean(chroma_cqt, axis=1)\n",
    "# np.std(chroma_cqt, axis=1)\n",
    "# np.median(chroma_cqt, axis=1)\n",
    "# np.min(chroma_cqt, axis=1)\n",
    "# np.max(chroma_cqt, axis=1)"
   ]
  },
  {
   "cell_type": "markdown",
   "metadata": {},
   "source": [
    "## MFCC"
   ]
  },
  {
   "cell_type": "code",
   "execution_count": 10,
   "metadata": {},
   "outputs": [
    {
     "data": {
      "text/plain": [
       "array([-66.78069   ,  64.261795  ,  -9.776764  ,  11.287591  ,\n",
       "        -2.4191437 ,   9.037897  ,  -1.1133189 ,   4.5498395 ,\n",
       "        -5.305121  ,   0.24452747,  -9.495332  ,   2.5823383 ],\n",
       "      dtype=float32)"
      ]
     },
     "execution_count": 10,
     "metadata": {},
     "output_type": "execute_result"
    }
   ],
   "source": [
    "mfccs = librosa.feature.mfcc(y=y, sr=sr, n_mfcc=12)\n",
    "np.mean(mfccs, axis=1)\n",
    "# np.std(mfccs, axis=1)\n",
    "# np.median(mfccs, axis=1)\n",
    "# np.min(mfccs, axis=1)\n",
    "# np.max(mfccs, axis=1)"
   ]
  },
  {
   "cell_type": "markdown",
   "metadata": {},
   "source": [
    "## Rms"
   ]
  },
  {
   "cell_type": "code",
   "execution_count": 49,
   "metadata": {},
   "outputs": [
    {
     "data": {
      "text/plain": [
       "array([0.08595273], dtype=float32)"
      ]
     },
     "execution_count": 49,
     "metadata": {},
     "output_type": "execute_result"
    }
   ],
   "source": [
    "S, phase = librosa.magphase(librosa.stft(y))\n",
    "rms = librosa.feature.rms(S=S)\n",
    "np.mean(rms, axis=1)\n",
    "# np.std(rms, axis=1)\n",
    "# np.median(rms, axis=1)\n",
    "# np.min(rms, axis=1)\n",
    "# np.max(rms, axis=1)"
   ]
  },
  {
   "cell_type": "markdown",
   "metadata": {},
   "source": [
    "## Spectral centroid"
   ]
  },
  {
   "cell_type": "code",
   "execution_count": 12,
   "metadata": {},
   "outputs": [
    {
     "data": {
      "text/plain": [
       "array([3056.58789738])"
      ]
     },
     "execution_count": 12,
     "metadata": {},
     "output_type": "execute_result"
    }
   ],
   "source": [
    "cent = librosa.feature.spectral_centroid(y=y, sr=sr)\n",
    "np.mean(cent, axis=1)\n",
    "# np.std(cent, axis=1)\n",
    "# np.median(cent, axis=1)\n",
    "# np.min(cent, axis=1)\n",
    "# np.max(cent, axis=1)"
   ]
  },
  {
   "cell_type": "markdown",
   "metadata": {},
   "source": [
    "## P’th-order spectral bandwidth"
   ]
  },
  {
   "cell_type": "code",
   "execution_count": 13,
   "metadata": {},
   "outputs": [
    {
     "data": {
      "text/plain": [
       "array([2709.76590107])"
      ]
     },
     "execution_count": 13,
     "metadata": {},
     "output_type": "execute_result"
    }
   ],
   "source": [
    "spec_bw = librosa.feature.spectral_bandwidth(y=y, sr=sr)\n",
    "np.mean(spec_bw, axis=1)\n",
    "# np.std(spec_bw, axis=1)\n",
    "# np.median(spec_bw, axis=1)\n",
    "# np.min(spec_bw, axis=1)\n",
    "# np.max(spec_bw, axis=1)"
   ]
  },
  {
   "cell_type": "markdown",
   "metadata": {},
   "source": [
    "## Spectral contrast"
   ]
  },
  {
   "cell_type": "code",
   "execution_count": 57,
   "metadata": {},
   "outputs": [
    {
     "data": {
      "text/plain": [
       "array([16.03291377, 15.43139924, 17.92563632, 17.80908587, 17.89187475,\n",
       "       17.15296558, 46.9735292 ])"
      ]
     },
     "execution_count": 57,
     "metadata": {},
     "output_type": "execute_result"
    }
   ],
   "source": [
    "S = np.abs(librosa.stft(y))\n",
    "contrast = librosa.feature.spectral_contrast(S=S, sr=sr)\n",
    "np.mean(contrast, axis=1)\n",
    "# np.std(contrast, axis=1)\n",
    "# np.median(contrast, axis=1)\n",
    "# np.min(contrast, axis=1)\n",
    "# np.max(contrast, axis=1)"
   ]
  },
  {
   "cell_type": "markdown",
   "metadata": {},
   "source": [
    "## Spectral flatness"
   ]
  },
  {
   "cell_type": "code",
   "execution_count": 19,
   "metadata": {},
   "outputs": [
    {
     "data": {
      "text/plain": [
       "array([0.0540469], dtype=float32)"
      ]
     },
     "execution_count": 19,
     "metadata": {},
     "output_type": "execute_result"
    }
   ],
   "source": [
    "flatness = librosa.feature.spectral_flatness(y=y)\n",
    "np.mean(flatness, axis=1)\n",
    "# np.std(flatness, axis=1)\n",
    "# np.median(flatness, axis=1)\n",
    "# np.min(flatness, axis=1)\n",
    "# np.max(flatness, axis=1)"
   ]
  },
  {
   "cell_type": "markdown",
   "metadata": {},
   "source": [
    "## Spectral rolloff"
   ]
  },
  {
   "cell_type": "code",
   "execution_count": 20,
   "metadata": {},
   "outputs": [
    {
     "data": {
      "text/plain": [
       "array([6253.76925893])"
      ]
     },
     "execution_count": 20,
     "metadata": {},
     "output_type": "execute_result"
    }
   ],
   "source": [
    "rolloff = librosa.feature.spectral_rolloff(y=y, sr=sr)\n",
    "np.mean(rolloff, axis=1)\n",
    "# np.std(rolloff, axis=1)\n",
    "# np.median(rolloff, axis=1)\n",
    "# np.min(rolloff, axis=1)\n",
    "# np.max(rolloff, axis=1)"
   ]
  },
  {
   "cell_type": "markdown",
   "metadata": {},
   "source": [
    "## Poly coeff"
   ]
  },
  {
   "cell_type": "code",
   "execution_count": 58,
   "metadata": {},
   "outputs": [
    {
     "data": {
      "text/plain": [
       "array([ 9.33074864e-08, -1.43551938e-03,  5.83159660e+00])"
      ]
     },
     "execution_count": 58,
     "metadata": {},
     "output_type": "execute_result"
    }
   ],
   "source": [
    "S = np.abs(librosa.stft(y))\n",
    "# p0 = librosa.feature.poly_features(S=S, order=0)\n",
    "# p1 = librosa.feature.poly_features(S=S, order=1)\n",
    "p2 = librosa.feature.poly_features(y=y, sr=sr, order=2)\n",
    "np.mean(p2, axis=1)\n",
    "# np.std(p2, axis=1)\n",
    "# np.median(p2, axis=1)\n",
    "# np.min(p2, axis=1)\n",
    "# np.max(p2, axis=1)"
   ]
  },
  {
   "cell_type": "markdown",
   "metadata": {},
   "source": [
    "## Tonal centroid"
   ]
  },
  {
   "cell_type": "code",
   "execution_count": 30,
   "metadata": {},
   "outputs": [
    {
     "data": {
      "text/plain": [
       "array([0.02824726, 0.15793834, 0.06010614, 0.15441794, 0.00796108,\n",
       "       0.06129186])"
      ]
     },
     "execution_count": 30,
     "metadata": {},
     "output_type": "execute_result"
    }
   ],
   "source": [
    "y_h = librosa.effects.harmonic(y)\n",
    "tonnetz = librosa.feature.tonnetz(y=y_h, sr=sr)\n",
    "np.mean(tonnetz, axis=1)\n",
    "# np.std(tonnetz, axis=1)\n",
    "# np.median(tonnetz, axis=1)\n",
    "# np.min(tonnetz, axis=1)\n",
    "# np.max(tonnetz, axis=1)"
   ]
  },
  {
   "cell_type": "markdown",
   "metadata": {},
   "source": [
    "## Zero crossing"
   ]
  },
  {
   "cell_type": "code",
   "execution_count": 31,
   "metadata": {},
   "outputs": [
    {
     "data": {
      "text/plain": [
       "array([0.16440554])"
      ]
     },
     "execution_count": 31,
     "metadata": {},
     "output_type": "execute_result"
    }
   ],
   "source": [
    "zcr = librosa.feature.zero_crossing_rate(y)\n",
    "np.mean(zcr, axis=1)\n",
    "# np.std(zcr, axis=1)\n",
    "# np.median(zcr, axis=1)\n",
    "# np.min(zcr, axis=1)\n",
    "# np.max(zcr, axis=1)"
   ]
  },
  {
   "cell_type": "markdown",
   "metadata": {},
   "source": [
    "## Tempo"
   ]
  },
  {
   "cell_type": "code",
   "execution_count": 77,
   "metadata": {},
   "outputs": [
    {
     "data": {
      "text/plain": [
       "array([161.49902344])"
      ]
     },
     "execution_count": 77,
     "metadata": {},
     "output_type": "execute_result"
    }
   ],
   "source": [
    "onset_env = librosa.onset.onset_strength(y=y, sr=sr)\n",
    "tempo = librosa.feature.tempo(onset_envelope=onset_env, sr=sr)\n",
    "tempo"
   ]
  },
  {
   "cell_type": "code",
   "execution_count": 67,
   "metadata": {},
   "outputs": [
    {
     "data": {
      "text/plain": [
       "6"
      ]
     },
     "execution_count": 67,
     "metadata": {},
     "output_type": "execute_result"
    }
   ],
   "source": [
    "dtempo = librosa.feature.tempo(onset_envelope=onset_env, sr=sr,\n",
    "                               aggregate=None)\n",
    "np.mean(dtempo, axis=0)\n",
    "# np.std(dtempo, axis=0)\n",
    "# np.median(dtempo, axis=0)\n",
    "# np.min(dtempo, axis=0)\n",
    "# np.max(dtempo, axis=0)\n",
    "\n",
    "def count_value_changes(arr):\n",
    "    changes = 0\n",
    "    for i in range(1, len(arr)):\n",
    "        if arr[i] != arr[i - 1]:\n",
    "            changes += 1\n",
    "    return changes\n",
    "\n",
    "count_value_changes(dtempo)"
   ]
  },
  {
   "cell_type": "code",
   "execution_count": 42,
   "metadata": {},
   "outputs": [
    {
     "data": {
      "text/plain": [
       "9"
      ]
     },
     "execution_count": 42,
     "metadata": {},
     "output_type": "execute_result"
    }
   ],
   "source": [
    "import scipy\n",
    "prior_lognorm = scipy.stats.lognorm(loc=np.log(120), scale=120, s=1)\n",
    "dtempo_lognorm = librosa.feature.tempo(onset_envelope=onset_env, sr=sr,\n",
    "                                       aggregate=None,\n",
    "                                       prior=prior_lognorm)\n",
    "np.mean(dtempo, axis=0)\n",
    "# np.std(dtempo, axis=0)\n",
    "# np.median(dtempo, axis=0)\n",
    "# np.min(dtempo, axis=0)\n",
    "# np.max(dtempo, axis=0)\n",
    "count_value_changes(dtempo_lognorm)"
   ]
  },
  {
   "cell_type": "markdown",
   "metadata": {},
   "source": [
    "## Onset strength"
   ]
  },
  {
   "cell_type": "code",
   "execution_count": 47,
   "metadata": {},
   "outputs": [
    {
     "data": {
      "text/plain": [
       "np.float32(1.8073685)"
      ]
     },
     "execution_count": 47,
     "metadata": {},
     "output_type": "execute_result"
    }
   ],
   "source": [
    "oenv = librosa.onset.onset_strength(y=y, sr=sr, hop_length=512)\n",
    "np.mean(oenv, axis=0)\n",
    "# np.std(oenv, axis=0)\n",
    "# np.median(oenv, axis=0)\n",
    "# np.min(oenv, axis=0)\n",
    "# np.max(oenv, axis=0)"
   ]
  },
  {
   "cell_type": "markdown",
   "metadata": {},
   "source": [
    "## Tempogram ratio"
   ]
  },
  {
   "cell_type": "code",
   "execution_count": 48,
   "metadata": {},
   "outputs": [
    {
     "data": {
      "text/plain": [
       "array([0.47411589, 0.51840293, 0.52948702, 0.53333046, 0.50992209,\n",
       "       0.54039286, 0.72607298, 0.50661104, 0.51756228, 0.61323129,\n",
       "       0.49852628, 0.45416775, 0.4092563 ])"
      ]
     },
     "execution_count": 48,
     "metadata": {},
     "output_type": "execute_result"
    }
   ],
   "source": [
    "tempogram = librosa.feature.tempogram(y=y, sr=sr)\n",
    "tgr = librosa.feature.tempogram_ratio(tg=tempogram, sr=sr)\n",
    "np.mean(tgr, axis=1)\n",
    "# np.std(tgr, axis=0)\n",
    "# np.median(tgr, axis=0)\n",
    "# np.min(tgr, axis=0)\n",
    "# np.max(tgr, axis=0)"
   ]
  },
  {
   "cell_type": "markdown",
   "metadata": {},
   "source": [
    "## Onset"
   ]
  },
  {
   "cell_type": "code",
   "execution_count": 50,
   "metadata": {},
   "outputs": [
    {
     "data": {
      "text/plain": [
       "151"
      ]
     },
     "execution_count": 50,
     "metadata": {},
     "output_type": "execute_result"
    }
   ],
   "source": [
    "o_env = librosa.onset.onset_strength(y=y, sr=sr)\n",
    "onset_frames = librosa.onset.onset_detect(onset_envelope=o_env, sr=sr)\n",
    "len(onset_frames)"
   ]
  },
  {
   "cell_type": "markdown",
   "metadata": {},
   "source": [
    "## Tempo and Beat"
   ]
  },
  {
   "cell_type": "code",
   "execution_count": 54,
   "metadata": {},
   "outputs": [
    {
     "data": {
      "text/plain": [
       "82"
      ]
     },
     "execution_count": 54,
     "metadata": {},
     "output_type": "execute_result"
    }
   ],
   "source": [
    "tempo, beats = librosa.beat.beat_track(y=y, sr=sr)\n",
    "len(beats)"
   ]
  },
  {
   "cell_type": "markdown",
   "metadata": {},
   "source": [
    "## Predominant local pulse "
   ]
  },
  {
   "cell_type": "code",
   "execution_count": 68,
   "metadata": {},
   "outputs": [
    {
     "data": {
      "text/plain": [
       "np.float32(0.30636173)"
      ]
     },
     "execution_count": 68,
     "metadata": {},
     "output_type": "execute_result"
    }
   ],
   "source": [
    "onset_env = librosa.onset.onset_strength(y=y, sr=sr)\n",
    "pulse = librosa.beat.plp(onset_envelope=onset_env, sr=sr)\n",
    "np.mean(pulse, axis=0)\n",
    "# np.std(pulse, axis=0)\n",
    "# np.median(pulse, axis=0)\n",
    "# np.min(pulse, axis=0)\n",
    "# np.max(pulse, axis=0)"
   ]
  },
  {
   "cell_type": "markdown",
   "metadata": {},
   "source": [
    "# Additional features\n",
    "## Spectral Entropy\n",
    "Spectral entropy measures the randomness in the distribution of power across different frequency bands and is often used to analyze the complexity of a sound signal."
   ]
  },
  {
   "cell_type": "code",
   "execution_count": 17,
   "metadata": {},
   "outputs": [
    {
     "data": {
      "text/plain": [
       "np.float32(0.0692536)"
      ]
     },
     "execution_count": 17,
     "metadata": {},
     "output_type": "execute_result"
    }
   ],
   "source": [
    "def spectral_entropy(y, sr):\n",
    "    psd = np.abs(librosa.stft(y)) ** 2\n",
    "    psd_norm = psd / np.sum(psd)\n",
    "    entropy = -np.sum(psd_norm * np.log2(psd_norm), axis=0)\n",
    "    return entropy\n",
    "\n",
    "spectral_entropy_value = spectral_entropy(y, sr)\n",
    "np.mean(spectral_entropy_value, axis=0)\n",
    "# np.std(spectral_entropy_value, axis=0)\n",
    "# np.median(spectral_entropy_value, axis=0)\n",
    "# np.min(spectral_entropy_value, axis=0)\n",
    "# np.max(spectral_entropy_value, axis=0)"
   ]
  },
  {
   "cell_type": "markdown",
   "metadata": {},
   "source": [
    "## Harmonic-Percussive Separation (HPS) Features\n",
    "Separating the harmonic and percussive components of the audio can help distinguish between rhythmic (e.g., drums) and harmonic (e.g., guitar, vocals) elements in the music."
   ]
  },
  {
   "cell_type": "code",
   "execution_count": 30,
   "metadata": {},
   "outputs": [
    {
     "data": {
      "text/plain": [
       "(12, 1291)"
      ]
     },
     "execution_count": 30,
     "metadata": {},
     "output_type": "execute_result"
    }
   ],
   "source": [
    "harmonic, percussive = librosa.effects.hpss(y)\n",
    "\n",
    "harmonic_features = librosa.feature.mfcc(y=harmonic, sr=sr, n_mfcc=12)\n",
    "percussive_features = librosa.feature.mfcc(y=percussive, sr=sr, n_mfcc=12)\n",
    "percussive_features.shape\n",
    "harmonic_features.shape\n",
    "# plt.figure(figsize=(5, 5))\n",
    "# plt.imshow(harmonic_features)\n",
    "# plt.show()"
   ]
  },
  {
   "cell_type": "markdown",
   "metadata": {},
   "source": [
    "## Modulation Features\n",
    "Modulation features capture temporal changes in frequency content over time, which could be helpful for genre classification (e.g., fluctuations in rhythm or tempo)."
   ]
  },
  {
   "cell_type": "code",
   "execution_count": 36,
   "metadata": {},
   "outputs": [
    {
     "data": {
      "text/plain": [
       "<matplotlib.image.AxesImage at 0x299f63f24f0>"
      ]
     },
     "execution_count": 36,
     "metadata": {},
     "output_type": "execute_result"
    },
    {
     "data": {
      "image/png": "[encoded data removed]",
      "text/plain": [
       "<Figure size 640x480 with 1 Axes>"
      ]
     },
     "metadata": {},
     "output_type": "display_data"
    }
   ],
   "source": [
    "# mod_chroma_stft = librosa.feature.chroma_stft(y=y, sr=sr)\n",
    "mod_mel_spectrogram = librosa.feature.melspectrogram(y=y, sr=sr)\n",
    "\n",
    "mod_features = librosa.feature.tempogram(y=y, sr=sr)\n",
    "# mod_mel_spectrogram.shape\n",
    "plt.imshow(mod_features)"
   ]
  },
  {
   "cell_type": "markdown",
   "metadata": {},
   "source": [
    "## Rhythm Complexity\n",
    "Rhythm complexity measures, like syncopation or groove characteristics, could add to your rhythm-related features. One approach is to use onset strength or beat features over longer periods of time to capture rhythmic complexity."
   ]
  },
  {
   "cell_type": "code",
   "execution_count": 63,
   "metadata": {},
   "outputs": [
    {
     "data": {
      "text/plain": [
       "np.float64(0.20253709324698987)"
      ]
     },
     "execution_count": 63,
     "metadata": {},
     "output_type": "execute_result"
    }
   ],
   "source": [
    "rhythm_complexity = np.std(librosa.feature.tempogram(y=y, sr=sr))\n",
    "rhythm_complexity"
   ]
  },
  {
   "cell_type": "markdown",
   "metadata": {},
   "source": [
    "## Autocorrelation Features\n",
    "Autocorrelation can help in understanding how periodic the signal is, which might help in genre classification, especially for rhythmic genres like electronic music."
   ]
  },
  {
   "cell_type": "code",
   "execution_count": 42,
   "metadata": {},
   "outputs": [
    {
     "data": {
      "text/plain": [
       "(660984,)"
      ]
     },
     "execution_count": 42,
     "metadata": {},
     "output_type": "execute_result"
    }
   ],
   "source": [
    "autocorrelation = librosa.autocorrelate(y)\n",
    "autocorrelation.shape"
   ]
  },
  {
   "cell_type": "markdown",
   "metadata": {},
   "source": [
    "## Pitch Features\n",
    "You can also extract features based on pitch, such as the pitch histogram or the average pitch over the duration of the song."
   ]
  },
  {
   "cell_type": "code",
   "execution_count": 7,
   "metadata": {},
   "outputs": [
    {
     "data": {
      "text/plain": [
       "(35700,)"
      ]
     },
     "execution_count": 7,
     "metadata": {},
     "output_type": "execute_result"
    }
   ],
   "source": [
    "pitches, magnitudes = librosa.core.piptrack(y=y, sr=sr)\n",
    "pitch_mean = np.mean(pitches[pitches > 0])\n",
    "pitch_std = np.std(pitches[pitches > 0])\n",
    "# np.(pitches[pitches > 0])\n",
    "pitches[pitches > 0].shape"
   ]
  },
  {
   "cell_type": "markdown",
   "metadata": {},
   "source": [
    "## Spectral Flux\n",
    "Spectral flux measures the rate of change in the power spectrum of the audio, which helps to distinguish between smooth and abrupt changes in the frequency content."
   ]
  },
  {
   "cell_type": "code",
   "execution_count": 68,
   "metadata": {},
   "outputs": [
    {
     "data": {
      "text/plain": [
       "(1291,)"
      ]
     },
     "execution_count": 68,
     "metadata": {},
     "output_type": "execute_result"
    }
   ],
   "source": [
    "spectral_flux = librosa.onset.onset_strength(y=y, sr=sr)\n",
    "spectral_flux.shape"
   ]
  },
  {
   "cell_type": "markdown",
   "metadata": {},
   "source": [
    "## Tempo Variability\n",
    "While you already calculate the tempo, you can also analyze the variability in tempo throughout the song (e.g., changes in speed or the \"swing\" in jazz)."
   ]
  },
  {
   "cell_type": "code",
   "execution_count": 76,
   "metadata": {},
   "outputs": [
    {
     "data": {
      "text/plain": [
       "np.float64(27.85641302189574)"
      ]
     },
     "execution_count": 76,
     "metadata": {},
     "output_type": "execute_result"
    }
   ],
   "source": [
    "onset_env = librosa.onset.onset_strength(y=y, sr=sr)\n",
    "tempo_variability = np.std(librosa.feature.rhythm.tempo(onset_envelope=onset_env, sr=sr, aggregate=None))\n",
    "tempo_variability"
   ]
  },
  {
   "cell_type": "markdown",
   "metadata": {},
   "source": [
    "## Chord Features\n",
    "Chord progression could be another distinguishing factor for certain genres. You could use a pre-trained chord recognition system or analyze harmonic transitions to capture genre-specific patterns."
   ]
  },
  {
   "cell_type": "code",
   "execution_count": 47,
   "metadata": {},
   "outputs": [],
   "source": [
    "chroma_cqt = librosa.feature.chroma_cqt(y=y, sr=sr)"
   ]
  },
  {
   "cell_type": "markdown",
   "metadata": {},
   "source": [
    "## Energy Features (Low-Energy Rate)\n",
    "Low-energy rate (LER) can help identify quieter or softer genres of music."
   ]
  },
  {
   "cell_type": "code",
   "execution_count": 51,
   "metadata": {},
   "outputs": [
    {
     "data": {
      "text/plain": [
       "np.float64(256.0)"
      ]
     },
     "execution_count": 51,
     "metadata": {},
     "output_type": "execute_result"
    }
   ],
   "source": [
    "low_energy = np.sum(rms < 0.5 * np.mean(rms)) / len(rms)\n",
    "low_energy"
   ]
  },
  {
   "cell_type": "markdown",
   "metadata": {},
   "source": [
    "## Harmonic Ratio\n",
    "Harmonic-to-noise ratio (HNR) captures the amount of noise versus harmonic content in the audio, and can help differentiate between more \"noisy\" genres like punk versus melodic genres."
   ]
  },
  {
   "cell_type": "code",
   "execution_count": 53,
   "metadata": {},
   "outputs": [
    {
     "data": {
      "text/plain": [
       "np.float32(0.54905176)"
      ]
     },
     "execution_count": 53,
     "metadata": {},
     "output_type": "execute_result"
    }
   ],
   "source": [
    "harmonic_ratio = np.sum(harmonic) / (np.sum(percussive) + np.sum(harmonic))\n",
    "harmonic_ratio"
   ]
  },
  {
   "cell_type": "markdown",
   "metadata": {},
   "source": [
    "## Spectral Decrease\n",
    "This feature measures the rate of decrease in spectral amplitudes, which can be indicative of certain timbral qualities."
   ]
  },
  {
   "cell_type": "code",
   "execution_count": 83,
   "metadata": {},
   "outputs": [
    {
     "data": {
      "text/plain": [
       "np.float32(-2.4102108)"
      ]
     },
     "execution_count": 83,
     "metadata": {},
     "output_type": "execute_result"
    }
   ],
   "source": [
    "def spectral_decrease(y, sr):\n",
    "    S = np.abs(librosa.stft(y))\n",
    "    decrease = np.mean(np.diff(S, axis=0), axis=1)\n",
    "    return decrease\n",
    "\n",
    "spectral_decrease_value = spectral_decrease(y, sr)\n",
    "np.sum(spectral_decrease_value)"
   ]
  },
  {
   "cell_type": "markdown",
   "metadata": {},
   "source": [
    "# ADD\n",
    "## Dynamic Range\n",
    "Dynamic range measures the difference between the loudest and softest parts of the audio. Some genres, like classical music, tend to have wider dynamic ranges, while others, like pop or electronic music, tend to be more compressed."
   ]
  },
  {
   "cell_type": "code",
   "execution_count": 84,
   "metadata": {},
   "outputs": [],
   "source": [
    "dynamic_range = np.max(rms) - np.min(rms)"
   ]
  },
  {
   "cell_type": "markdown",
   "metadata": {},
   "source": [
    "## Brightness\n",
    "Timbre can be a distinguishing feature for genres as it describes the tone color or quality of the sound. You are already extracting some timbre-related features (e.g., MFCCs, spectral features), but you could explore additional high-level features such as:\n",
    "\n",
    "Harmonic-to-Noise Ratio (HNR): As mentioned earlier, this can help distinguish \"noisy\" genres like punk or rock from cleaner ones like classical or jazz.\n",
    "Brightness: This feature measures the amount of high-frequency energy relative to low-frequency energy, which might differentiate brighter genres (like EDM) from darker ones (like metal or doom)."
   ]
  },
  {
   "cell_type": "code",
   "execution_count": 85,
   "metadata": {},
   "outputs": [
    {
     "ename": "NameError",
     "evalue": "name 'spectral_centroid' is not defined",
     "output_type": "error",
     "traceback": [
      "\u001b[1;31m---------------------------------------------------------------------------\u001b[0m",
      "\u001b[1;31mNameError\u001b[0m                                 Traceback (most recent call last)",
      "Cell \u001b[1;32mIn[85], line 1\u001b[0m\n\u001b[1;32m----> 1\u001b[0m brightness \u001b[38;5;241m=\u001b[39m np\u001b[38;5;241m.\u001b[39mmean(\u001b[43mspectral_centroid\u001b[49m)\n",
      "\u001b[1;31mNameError\u001b[0m: name 'spectral_centroid' is not defined"
     ]
    }
   ],
   "source": [
    "brightness = np.mean(spectral_centroid)"
   ]
  },
  {
   "cell_type": "markdown",
   "metadata": {},
   "source": [
    "## Swing Ratio\n",
    "Swing is a rhythmical phenomenon common in jazz and some other genres where notes are played off-beat. Calculating a swing ratio can help differentiate jazz from other genres."
   ]
  },
  {
   "cell_type": "code",
   "execution_count": 88,
   "metadata": {},
   "outputs": [
    {
     "data": {
      "text/plain": [
       "np.float64(1.1026739556739504)"
      ]
     },
     "execution_count": 88,
     "metadata": {},
     "output_type": "execute_result"
    }
   ],
   "source": [
    "onset_frames = librosa.onset.onset_detect(y=y, sr=sr)\n",
    "onset_times = librosa.frames_to_time(onset_frames, sr=sr)\n",
    "\n",
    "# Calculate durations of eighth-note pairs\n",
    "swing_ratios = []\n",
    "for i in range(1, len(onset_times)-1, 2):\n",
    "    duration_1 = onset_times[i] - onset_times[i-1]\n",
    "    duration_2 = onset_times[i+1] - onset_times[i]\n",
    "    if duration_2 != 0:\n",
    "        swing_ratio = duration_1 / duration_2\n",
    "        swing_ratios.append(swing_ratio)\n",
    "\n",
    "# Average swing ratio\n",
    "avg_swing_ratio = np.mean(swing_ratios) if swing_ratios else 0\n",
    "avg_swing_ratio"
   ]
  },
  {
   "cell_type": "markdown",
   "metadata": {},
   "source": [
    "## Syncopation\n",
    "Syncopation refers to the emphasis on off-beats or unexpected rhythmic accents, which is common in genres like jazz, reggae, or hip-hop. While it’s harder to compute directly, rhythmic patterns from onset detection and beat tracking could help quantify syncopation."
   ]
  },
  {
   "cell_type": "code",
   "execution_count": 89,
   "metadata": {},
   "outputs": [
    {
     "data": {
      "text/plain": [
       "np.float64(0.07611839437761869)"
      ]
     },
     "execution_count": 89,
     "metadata": {},
     "output_type": "execute_result"
    }
   ],
   "source": [
    "onset_env = librosa.onset.onset_strength(y=y, sr=sr)\n",
    "tempo, beats = librosa.beat.beat_track(onset_envelope=onset_env, sr=sr)\n",
    "\n",
    "# Expected beat times\n",
    "beat_times = librosa.frames_to_time(beats, sr=sr)\n",
    "\n",
    "# Syncopation measure: compare actual onsets to expected beats\n",
    "syncopation = 0\n",
    "for onset in onset_times:\n",
    "    closest_beat = min(beat_times, key=lambda x: abs(x - onset))\n",
    "    syncopation += abs(onset - closest_beat)\n",
    "\n",
    "# Normalize syncopation value\n",
    "syncopation = syncopation / len(onset_times) if len(onset_times) else 0\n",
    "syncopation"
   ]
  },
  {
   "cell_type": "markdown",
   "metadata": {},
   "source": [
    "## Tempo Stability\n",
    "For genres like electronic dance music (EDM) or techno, where the tempo is generally stable, measuring the stability of the tempo could be useful."
   ]
  },
  {
   "cell_type": "code",
   "execution_count": 86,
   "metadata": {},
   "outputs": [
    {
     "ename": "NameError",
     "evalue": "name 'dtempo' is not defined",
     "output_type": "error",
     "traceback": [
      "\u001b[1;31m---------------------------------------------------------------------------\u001b[0m",
      "\u001b[1;31mNameError\u001b[0m                                 Traceback (most recent call last)",
      "Cell \u001b[1;32mIn[86], line 1\u001b[0m\n\u001b[1;32m----> 1\u001b[0m tempo_stability \u001b[38;5;241m=\u001b[39m np\u001b[38;5;241m.\u001b[39mstd(\u001b[43mdtempo\u001b[49m)\n",
      "\u001b[1;31mNameError\u001b[0m: name 'dtempo' is not defined"
     ]
    }
   ],
   "source": [
    "tempo_stability = np.std(dtempo)"
   ]
  },
  {
   "cell_type": "markdown",
   "metadata": {},
   "source": [
    "## Roughness\n",
    "Captures how \"rough\" a sound is, often associated with dissonance or harshness, which is more prevalent in genres like metal or punk."
   ]
  },
  {
   "cell_type": "code",
   "execution_count": 90,
   "metadata": {},
   "outputs": [
    {
     "data": {
      "text/plain": [
       "np.float64(114.32339096585092)"
      ]
     },
     "execution_count": 90,
     "metadata": {},
     "output_type": "execute_result"
    }
   ],
   "source": [
    "harmonic = librosa.effects.harmonic(y=y)\n",
    "\n",
    "# Short-time Fourier transform (STFT)\n",
    "S = np.abs(librosa.stft(harmonic))\n",
    "\n",
    "# Get frequency bins and magnitudes\n",
    "frequencies = librosa.fft_frequencies(sr=sr)\n",
    "magnitudes = np.mean(S, axis=1)\n",
    "\n",
    "# Calculate roughness using Sethares' model (simplified)\n",
    "roughness = 0\n",
    "for i in range(len(frequencies) - 1):\n",
    "    for j in range(i + 1, len(frequencies)):\n",
    "        if abs(frequencies[i] - frequencies[j]) < 20:  # Close frequencies cause roughness\n",
    "            roughness += magnitudes[i] * magnitudes[j] / abs(frequencies[i] - frequencies[j])\n",
    "roughness"
   ]
  },
  {
   "cell_type": "markdown",
   "metadata": {},
   "source": [
    "## Warmth\n",
    "A perceptual feature describing the presence of low frequencies, common in genres like jazz or blues."
   ]
  },
  {
   "cell_type": "code",
   "execution_count": 92,
   "metadata": {},
   "outputs": [
    {
     "data": {
      "text/plain": [
       "np.float32(0.7954911)"
      ]
     },
     "execution_count": 92,
     "metadata": {},
     "output_type": "execute_result"
    }
   ],
   "source": [
    "mel_spectrogram = librosa.feature.melspectrogram(y=y, sr=sr, n_mels=128)\n",
    "\n",
    "# Convert to decibel scale (for perceptual purposes)\n",
    "S_db = librosa.power_to_db(mel_spectrogram, ref=np.max)\n",
    "\n",
    "# Define a frequency threshold for low frequencies (e.g., 200 Hz)\n",
    "low_freq_idx = np.where(librosa.mel_frequencies(n_mels=128, fmax=sr/2) < 200)[0]\n",
    "\n",
    "# Warmth is the relative energy in the low-frequency range\n",
    "warmth = np.mean(S_db[low_freq_idx, :]) / np.mean(S_db)\n",
    "warmth"
   ]
  },
  {
   "cell_type": "markdown",
   "metadata": {},
   "source": []
  }
 ],
 "metadata": {
  "kernelspec": {
   "display_name": ".venv",
   "language": "python",
   "name": "python3"
  },
  "language_info": {
   "codemirror_mode": {
    "name": "ipython",
    "version": 3
   },
   "file_extension": ".py",
   "mimetype": "text/x-python",
   "name": "python",
   "nbconvert_exporter": "python",
   "pygments_lexer": "ipython3",
   "version": "3.9.13"
  }
 },
 "nbformat": 4,
 "nbformat_minor": 2
}
