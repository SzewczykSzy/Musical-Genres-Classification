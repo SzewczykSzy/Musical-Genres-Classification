{
 "cells": [
  {
   "cell_type": "code",
   "execution_count": 29,
   "metadata": {},
   "outputs": [],
   "source": [
    "import librosa\n",
    "import numpy as np\n",
    "import pandas as pd\n",
    "import scipy"
   ]
  },
  {
   "cell_type": "code",
   "execution_count": 97,
   "metadata": {},
   "outputs": [],
   "source": [
    "def columns():\n",
    "    feature_sizes = dict(chroma_stft=12, chroma_cqt=12, chroma_cens=12,\n",
    "                         mfcc=12, rms=1, spectral_centroid=1, spectral_bandwidth=1, \n",
    "                         spectral_contrast=7, spectral_flatness=1, spectral_rolloff=1,\n",
    "                         poly_features=3, tonnetz=6, zcr=1, dtempo=1,\n",
    "                         onset_strength=1, tempogram_ratio=13, plp=1)\n",
    "    single_features = ['onset_num', 'beats', 'tempo', 'dtempo_changes']\n",
    "    moments = ('mean', 'std', 'median', 'min', 'max')\n",
    "\n",
    "    columns = []\n",
    "    for name, size in feature_sizes.items():\n",
    "        for moment in moments:\n",
    "            it = (f\"{name}_{i:02d}_{moment}\" for i in range(size))\n",
    "            columns.extend(it)\n",
    "    # columns.extend(single_features)\n",
    "    columns = np.sort(np.array(columns))\n",
    "    columns = np.append(columns, single_features)\n",
    "    columns = np.append(columns, 'Genre')\n",
    "    return columns"
   ]
  },
  {
   "cell_type": "code",
   "execution_count": 100,
   "metadata": {},
   "outputs": [
    {
     "data": {
      "text/plain": [
       "435"
      ]
     },
     "execution_count": 100,
     "metadata": {},
     "output_type": "execute_result"
    }
   ],
   "source": [
    "len(columns())"
   ]
  },
  {
   "cell_type": "code",
   "execution_count": 111,
   "metadata": {},
   "outputs": [],
   "source": [
    "# columns()"
   ]
  },
  {
   "cell_type": "code",
   "execution_count": 107,
   "metadata": {},
   "outputs": [],
   "source": [
    "def count_value_changes(arr):\n",
    "    changes = 0\n",
    "    for i in range(1, len(arr)):\n",
    "        if arr[i] != arr[i - 1]:\n",
    "            changes += 1\n",
    "    return changes\n",
    "\n",
    "\n",
    "def calculate_features_for_single_record(file_path):\n",
    "    y, sr = librosa.load(file_path)\n",
    "    \n",
    "    chroma_stft = librosa.feature.chroma_stft(y=y, sr=sr, n_chroma=12)  #\n",
    "    chroma_cqt = librosa.feature.chroma_cqt(y=y, sr=sr, n_chroma=12)    #\n",
    "    chroma_cens = librosa.feature.chroma_cens(y=y, sr=sr)               #\n",
    "    mfcc = librosa.feature.mfcc(y=y, sr=sr, n_mfcc=12)                  #\n",
    "    rms = librosa.feature.rms(y=y)                                      #\n",
    "\n",
    "    spectral_centroid = librosa.feature.spectral_centroid(y=y, sr=sr)   #\n",
    "    spectral_bandwidth = librosa.feature.spectral_bandwidth(y=y, sr=sr) #\n",
    "    spectral_contrast = librosa.feature.spectral_contrast(y=y, sr=sr)   #\n",
    "    spectral_flatness = librosa.feature.spectral_flatness(y=y)          #\n",
    "    spectral_rolloff = librosa.feature.spectral_rolloff(y=y, sr=sr)     #\n",
    "\n",
    "    poly_features = librosa.feature.poly_features(y=y, sr=sr, order=2)  #\n",
    "    tonnetz = librosa.feature.tonnetz(y=librosa.effects.harmonic(y), sr=sr) #\n",
    "    zcr = librosa.feature.zero_crossing_rate(y)                         #\n",
    "\n",
    "    onset_env = librosa.onset.onset_strength(y=y, sr=sr)                #\n",
    "    plp = librosa.beat.plp(onset_envelope=onset_env, sr=sr)             #\n",
    "    \n",
    "    dtempo = librosa.feature.tempo(onset_envelope=onset_env, sr=sr, aggregate=None) #\n",
    "    tempogram_ratio = librosa.feature.tempogram_ratio(tg=librosa.feature.tempogram(y=y, sr=sr), sr=sr) #\n",
    "    \n",
    "    # Single features\n",
    "    dtempo_changes = count_value_changes(dtempo)\n",
    "    tempo, beats = librosa.beat.beat_track(y=y, sr=sr)\n",
    "    onset_num = len(librosa.onset.onset_detect(onset_envelope=onset_env, sr=sr))\n",
    "\n",
    "    moments = ['mean', 'std', 'median', 'min', 'max']\n",
    "\n",
    "    def aggregate_feature(feature):\n",
    "        return [np.max(feature), np.mean(feature), np.median(feature), np.min(feature), np.std(feature)]\n",
    "    \n",
    "    features = []\n",
    "\n",
    "    for f in [chroma_cens, chroma_cqt, chroma_stft, dtempo, mfcc, onset_env, plp, poly_features, rms, spectral_bandwidth,\n",
    "              spectral_centroid, spectral_contrast, spectral_flatness, spectral_rolloff, tempogram_ratio, \n",
    "              tonnetz, zcr]:\n",
    "        if f.ndim == 1:\n",
    "            features.extend(aggregate_feature(f))\n",
    "        else:\n",
    "            features.extend(np.hstack([aggregate_feature(f[i]) for i in range(f.shape[0])]))\n",
    "\n",
    "    features.append(onset_num)\n",
    "    features.append(len(beats))\n",
    "    features.append(tempo[0])\n",
    "    features.append(dtempo_changes)\n",
    "\n",
    "    genre = file_path.split('/')[-2]\n",
    "    features.append(genre)\n",
    "\n",
    "    return features"
   ]
  },
  {
   "cell_type": "code",
   "execution_count": 108,
   "metadata": {},
   "outputs": [],
   "source": [
    "res = calculate_features_for_single_record('../datasets/fma/fma_small/Hip-Hop/000002.mp3')"
   ]
  },
  {
   "cell_type": "code",
   "execution_count": 109,
   "metadata": {},
   "outputs": [
    {
     "data": {
      "text/plain": [
       "435"
      ]
     },
     "execution_count": 109,
     "metadata": {},
     "output_type": "execute_result"
    }
   ],
   "source": [
    "len(res)"
   ]
  },
  {
   "cell_type": "markdown",
   "metadata": {},
   "source": [
    "# Creating a features `.csv` file"
   ]
  },
  {
   "cell_type": "code",
   "execution_count": 119,
   "metadata": {},
   "outputs": [
    {
     "data": {
      "text/html": [
       "<div>\n",
       "<style scoped>\n",
       "    .dataframe tbody tr th:only-of-type {\n",
       "        vertical-align: middle;\n",
       "    }\n",
       "\n",
       "    .dataframe tbody tr th {\n",
       "        vertical-align: top;\n",
       "    }\n",
       "\n",
       "    .dataframe thead th {\n",
       "        text-align: right;\n",
       "    }\n",
       "</style>\n",
       "<table border=\"1\" class=\"dataframe\">\n",
       "  <thead>\n",
       "    <tr style=\"text-align: right;\">\n",
       "      <th></th>\n",
       "      <th>chroma_cens_00_max</th>\n",
       "      <th>chroma_cens_00_mean</th>\n",
       "      <th>chroma_cens_00_median</th>\n",
       "      <th>chroma_cens_00_min</th>\n",
       "      <th>chroma_cens_00_std</th>\n",
       "      <th>chroma_cens_01_max</th>\n",
       "      <th>chroma_cens_01_mean</th>\n",
       "      <th>chroma_cens_01_median</th>\n",
       "      <th>chroma_cens_01_min</th>\n",
       "      <th>chroma_cens_01_std</th>\n",
       "      <th>...</th>\n",
       "      <th>zcr_00_max</th>\n",
       "      <th>zcr_00_mean</th>\n",
       "      <th>zcr_00_median</th>\n",
       "      <th>zcr_00_min</th>\n",
       "      <th>zcr_00_std</th>\n",
       "      <th>onset_num</th>\n",
       "      <th>beats</th>\n",
       "      <th>tempo</th>\n",
       "      <th>dtempo_changes</th>\n",
       "      <th>Genre</th>\n",
       "    </tr>\n",
       "  </thead>\n",
       "  <tbody>\n",
       "  </tbody>\n",
       "</table>\n",
       "<p>0 rows × 435 columns</p>\n",
       "</div>"
      ],
      "text/plain": [
       "Empty DataFrame\n",
       "Columns: [chroma_cens_00_max, chroma_cens_00_mean, chroma_cens_00_median, chroma_cens_00_min, chroma_cens_00_std, chroma_cens_01_max, chroma_cens_01_mean, chroma_cens_01_median, chroma_cens_01_min, chroma_cens_01_std, chroma_cens_02_max, chroma_cens_02_mean, chroma_cens_02_median, chroma_cens_02_min, chroma_cens_02_std, chroma_cens_03_max, chroma_cens_03_mean, chroma_cens_03_median, chroma_cens_03_min, chroma_cens_03_std, chroma_cens_04_max, chroma_cens_04_mean, chroma_cens_04_median, chroma_cens_04_min, chroma_cens_04_std, chroma_cens_05_max, chroma_cens_05_mean, chroma_cens_05_median, chroma_cens_05_min, chroma_cens_05_std, chroma_cens_06_max, chroma_cens_06_mean, chroma_cens_06_median, chroma_cens_06_min, chroma_cens_06_std, chroma_cens_07_max, chroma_cens_07_mean, chroma_cens_07_median, chroma_cens_07_min, chroma_cens_07_std, chroma_cens_08_max, chroma_cens_08_mean, chroma_cens_08_median, chroma_cens_08_min, chroma_cens_08_std, chroma_cens_09_max, chroma_cens_09_mean, chroma_cens_09_median, chroma_cens_09_min, chroma_cens_09_std, chroma_cens_10_max, chroma_cens_10_mean, chroma_cens_10_median, chroma_cens_10_min, chroma_cens_10_std, chroma_cens_11_max, chroma_cens_11_mean, chroma_cens_11_median, chroma_cens_11_min, chroma_cens_11_std, chroma_cqt_00_max, chroma_cqt_00_mean, chroma_cqt_00_median, chroma_cqt_00_min, chroma_cqt_00_std, chroma_cqt_01_max, chroma_cqt_01_mean, chroma_cqt_01_median, chroma_cqt_01_min, chroma_cqt_01_std, chroma_cqt_02_max, chroma_cqt_02_mean, chroma_cqt_02_median, chroma_cqt_02_min, chroma_cqt_02_std, chroma_cqt_03_max, chroma_cqt_03_mean, chroma_cqt_03_median, chroma_cqt_03_min, chroma_cqt_03_std, chroma_cqt_04_max, chroma_cqt_04_mean, chroma_cqt_04_median, chroma_cqt_04_min, chroma_cqt_04_std, chroma_cqt_05_max, chroma_cqt_05_mean, chroma_cqt_05_median, chroma_cqt_05_min, chroma_cqt_05_std, chroma_cqt_06_max, chroma_cqt_06_mean, chroma_cqt_06_median, chroma_cqt_06_min, chroma_cqt_06_std, chroma_cqt_07_max, chroma_cqt_07_mean, chroma_cqt_07_median, chroma_cqt_07_min, chroma_cqt_07_std, ...]\n",
       "Index: []\n",
       "\n",
       "[0 rows x 435 columns]"
      ]
     },
     "execution_count": 119,
     "metadata": {},
     "output_type": "execute_result"
    }
   ],
   "source": [
    "from tqdm import tqdm\n",
    "import os\n",
    "\n",
    "df_features = pd.DataFrame(columns=columns())\n",
    "df_features"
   ]
  },
  {
   "cell_type": "code",
   "execution_count": 121,
   "metadata": {},
   "outputs": [
    {
     "name": "stderr",
     "output_type": "stream",
     "text": [
      "Processing files:   0%|          | 0/7994 [00:00<?, ?it/s]"
     ]
    },
    {
     "name": "stderr",
     "output_type": "stream",
     "text": [
      "Processing files:   0%|          | 37/7994 [01:44<6:10:21,  2.79s/it]"
     ]
    },
    {
     "name": "stdout",
     "output_type": "stream",
     "text": [
      "Error processing ../datasets/fma/fma_small/Electronic\\021842.mp3: 'float' object is not subscriptable.\n"
     ]
    },
    {
     "name": "stderr",
     "output_type": "stream",
     "text": [
      "Processing files:   5%|▌         | 429/7994 [19:54<5:30:02,  2.62s/it]"
     ]
    },
    {
     "name": "stdout",
     "output_type": "stream",
     "text": [
      "Error processing ../datasets/fma/fma_small/Electronic\\084201.mp3: 'float' object is not subscriptable.\n"
     ]
    },
    {
     "name": "stderr",
     "output_type": "stream",
     "text": [
      "Processing files:  10%|▉         | 794/7994 [36:06<5:32:08,  2.77s/it]c:\\Users\\szyme\\Documents\\Praca_Magisterska\\Musical-Genres-Classification\\.venv\\lib\\site-packages\\librosa\\core\\pitch.py:101: UserWarning: Trying to estimate tuning from empty frequency set.\n",
      "  return pitch_tuning(\n",
      "Processing files:  11%|█         | 871/7994 [39:37<5:25:11,  2.74s/it]"
     ]
    },
    {
     "name": "stdout",
     "output_type": "stream",
     "text": [
      "Error processing ../datasets/fma/fma_small/Electronic\\132774.mp3: 'float' object is not subscriptable.\n"
     ]
    },
    {
     "name": "stderr",
     "output_type": "stream",
     "text": [
      "Processing files:  15%|█▍        | 1171/7994 [51:36<4:14:33,  2.24s/it]"
     ]
    },
    {
     "name": "stdout",
     "output_type": "stream",
     "text": [
      "Error processing ../datasets/fma/fma_small/Experimental\\030690.mp3: 'float' object is not subscriptable.\n"
     ]
    },
    {
     "name": "stderr",
     "output_type": "stream",
     "text": [
      "Processing files:  19%|█▊        | 1485/7994 [1:03:52<4:11:01,  2.31s/it]c:\\Users\\szyme\\Documents\\Praca_Magisterska\\Musical-Genres-Classification\\.venv\\lib\\site-packages\\librosa\\core\\pitch.py:101: UserWarning: Trying to estimate tuning from empty frequency set.\n",
      "  return pitch_tuning(\n",
      "Processing files:  19%|█▉        | 1512/7994 [1:04:55<4:10:42,  2.32s/it]"
     ]
    },
    {
     "name": "stdout",
     "output_type": "stream",
     "text": [
      "Error processing ../datasets/fma/fma_small/Experimental\\073819.mp3: 'float' object is not subscriptable.\n"
     ]
    },
    {
     "name": "stderr",
     "output_type": "stream",
     "text": [
      "Processing files:  19%|█▉        | 1513/7994 [1:04:57<4:09:04,  2.31s/it]"
     ]
    },
    {
     "name": "stdout",
     "output_type": "stream",
     "text": [
      "Error processing ../datasets/fma/fma_small/Experimental\\073820.mp3: 'float' object is not subscriptable.\n"
     ]
    },
    {
     "name": "stderr",
     "output_type": "stream",
     "text": [
      "Processing files:  19%|█▉        | 1514/7994 [1:05:00<4:08:56,  2.31s/it]"
     ]
    },
    {
     "name": "stdout",
     "output_type": "stream",
     "text": [
      "Error processing ../datasets/fma/fma_small/Experimental\\073821.mp3: 'float' object is not subscriptable.\n"
     ]
    },
    {
     "name": "stderr",
     "output_type": "stream",
     "text": [
      "Processing files:  19%|█▉        | 1515/7994 [1:05:02<4:13:37,  2.35s/it]"
     ]
    },
    {
     "name": "stdout",
     "output_type": "stream",
     "text": [
      "Error processing ../datasets/fma/fma_small/Experimental\\073822.mp3: 'float' object is not subscriptable.\n"
     ]
    },
    {
     "name": "stderr",
     "output_type": "stream",
     "text": [
      "Processing files:  53%|█████▎    | 4235/7994 [2:59:10<2:25:30,  2.32s/it]c:\\Users\\szyme\\Documents\\Praca_Magisterska\\Musical-Genres-Classification\\.venv\\lib\\site-packages\\librosa\\core\\pitch.py:101: UserWarning: Trying to estimate tuning from empty frequency set.\n",
      "  return pitch_tuning(\n",
      "Processing files:  53%|█████▎    | 4236/7994 [2:59:11<2:08:09,  2.05s/it]"
     ]
    },
    {
     "name": "stdout",
     "output_type": "stream",
     "text": [
      "Error processing ../datasets/fma/fma_small/Instrumental\\107535.mp3: 'float' object is not subscriptable.\n"
     ]
    },
    {
     "name": "stderr",
     "output_type": "stream",
     "text": [
      "Processing files:  78%|███████▊  | 6215/7994 [4:20:27<1:05:39,  2.21s/it]c:\\Users\\szyme\\Documents\\Praca_Magisterska\\Musical-Genres-Classification\\.venv\\lib\\site-packages\\librosa\\core\\pitch.py:101: UserWarning: Trying to estimate tuning from empty frequency set.\n",
      "  return pitch_tuning(\n",
      "Processing files: 100%|██████████| 7994/7994 [5:33:14<00:00,  2.50s/it]  \n"
     ]
    }
   ],
   "source": [
    "rootdir = '../datasets/fma/fma_small/'\n",
    "\n",
    "total_files = sum([len(files) for r, d, files in os.walk(rootdir) if any(f.endswith('.mp3') for f in files)])\n",
    "\n",
    "with tqdm(total=total_files, desc=\"Processing files\") as pbar:\n",
    "    for subdir, dirs, _ in os.walk(rootdir):\n",
    "        for folder in dirs:\n",
    "            folder_path = os.path.join(subdir, folder)\n",
    "            for _, _, files in os.walk(folder_path):\n",
    "                for file in files:\n",
    "                    if file.endswith('.mp3'):\n",
    "                        path = os.path.join(folder_path, file)\n",
    "                        try:\n",
    "                            features = calculate_features_for_single_record(path)\n",
    "                            df_features.loc[len(df_features)] = features\n",
    "\n",
    "                        except Exception as e:\n",
    "                            print(f\"Error processing {path}: {e}.\")\n",
    "\n",
    "                        pbar.update(1)\n",
    "\n",
    "df_features.to_csv('extracted_features.csv', index=False)"
   ]
  },
  {
   "cell_type": "code",
   "execution_count": 114,
   "metadata": {},
   "outputs": [],
   "source": [
    "df_features.loc[len(df_features)] = res"
   ]
  },
  {
   "cell_type": "code",
   "execution_count": 115,
   "metadata": {},
   "outputs": [
    {
     "data": {
      "text/html": [
       "<div>\n",
       "<style scoped>\n",
       "    .dataframe tbody tr th:only-of-type {\n",
       "        vertical-align: middle;\n",
       "    }\n",
       "\n",
       "    .dataframe tbody tr th {\n",
       "        vertical-align: top;\n",
       "    }\n",
       "\n",
       "    .dataframe thead th {\n",
       "        text-align: right;\n",
       "    }\n",
       "</style>\n",
       "<table border=\"1\" class=\"dataframe\">\n",
       "  <thead>\n",
       "    <tr style=\"text-align: right;\">\n",
       "      <th></th>\n",
       "      <th>chroma_cens_00_max</th>\n",
       "      <th>chroma_cens_00_mean</th>\n",
       "      <th>chroma_cens_00_median</th>\n",
       "      <th>chroma_cens_00_min</th>\n",
       "      <th>chroma_cens_00_std</th>\n",
       "      <th>chroma_cens_01_max</th>\n",
       "      <th>chroma_cens_01_mean</th>\n",
       "      <th>chroma_cens_01_median</th>\n",
       "      <th>chroma_cens_01_min</th>\n",
       "      <th>chroma_cens_01_std</th>\n",
       "      <th>...</th>\n",
       "      <th>zcr_00_max</th>\n",
       "      <th>zcr_00_mean</th>\n",
       "      <th>zcr_00_median</th>\n",
       "      <th>zcr_00_min</th>\n",
       "      <th>zcr_00_std</th>\n",
       "      <th>onset_num</th>\n",
       "      <th>beats</th>\n",
       "      <th>tempo</th>\n",
       "      <th>dtempo_changes</th>\n",
       "      <th>Genre</th>\n",
       "    </tr>\n",
       "  </thead>\n",
       "  <tbody>\n",
       "    <tr>\n",
       "      <th>0</th>\n",
       "      <td>0.73768</td>\n",
       "      <td>0.492565</td>\n",
       "      <td>0.484671</td>\n",
       "      <td>0.314254</td>\n",
       "      <td>0.062149</td>\n",
       "      <td>0.479964</td>\n",
       "      <td>0.30733</td>\n",
       "      <td>0.301641</td>\n",
       "      <td>0.179593</td>\n",
       "      <td>0.049467</td>\n",
       "      <td>...</td>\n",
       "      <td>0.614746</td>\n",
       "      <td>0.164406</td>\n",
       "      <td>0.142578</td>\n",
       "      <td>0.030273</td>\n",
       "      <td>0.093938</td>\n",
       "      <td>151</td>\n",
       "      <td>82</td>\n",
       "      <td>161.499023</td>\n",
       "      <td>6</td>\n",
       "      <td>Hip-Hop</td>\n",
       "    </tr>\n",
       "  </tbody>\n",
       "</table>\n",
       "<p>1 rows × 435 columns</p>\n",
       "</div>"
      ],
      "text/plain": [
       "   chroma_cens_00_max  chroma_cens_00_mean  chroma_cens_00_median  \\\n",
       "0             0.73768             0.492565               0.484671   \n",
       "\n",
       "   chroma_cens_00_min  chroma_cens_00_std  chroma_cens_01_max  \\\n",
       "0            0.314254            0.062149            0.479964   \n",
       "\n",
       "   chroma_cens_01_mean  chroma_cens_01_median  chroma_cens_01_min  \\\n",
       "0              0.30733               0.301641            0.179593   \n",
       "\n",
       "   chroma_cens_01_std  ...  zcr_00_max  zcr_00_mean  zcr_00_median  \\\n",
       "0            0.049467  ...    0.614746     0.164406       0.142578   \n",
       "\n",
       "   zcr_00_min  zcr_00_std  onset_num  beats       tempo  dtempo_changes  \\\n",
       "0    0.030273    0.093938        151     82  161.499023               6   \n",
       "\n",
       "     Genre  \n",
       "0  Hip-Hop  \n",
       "\n",
       "[1 rows x 435 columns]"
      ]
     },
     "execution_count": 115,
     "metadata": {},
     "output_type": "execute_result"
    }
   ],
   "source": [
    "df_features"
   ]
  },
  {
   "cell_type": "code",
   "execution_count": null,
   "metadata": {},
   "outputs": [],
   "source": []
  }
 ],
 "metadata": {
  "kernelspec": {
   "display_name": ".venv",
   "language": "python",
   "name": "python3"
  },
  "language_info": {
   "codemirror_mode": {
    "name": "ipython",
    "version": 3
   },
   "file_extension": ".py",
   "mimetype": "text/x-python",
   "name": "python",
   "nbconvert_exporter": "python",
   "pygments_lexer": "ipython3",
   "version": "3.9.13"
  }
 },
 "nbformat": 4,
 "nbformat_minor": 2
}
