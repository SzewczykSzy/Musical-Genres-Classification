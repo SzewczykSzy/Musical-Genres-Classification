{
 "cells": [
  {
   "cell_type": "code",
   "execution_count": 1,
   "metadata": {},
   "outputs": [],
   "source": [
    "import librosa\n",
    "import numpy as np\n",
    "import pandas as pd\n",
    "import scipy"
   ]
  },
  {
   "cell_type": "code",
   "execution_count": 3,
   "metadata": {},
   "outputs": [
    {
     "data": {
      "text/plain": [
       "0       fma_small\n",
       "1       fma_small\n",
       "2       fma_small\n",
       "3       fma_small\n",
       "4       fma_small\n",
       "          ...    \n",
       "7980    fma_small\n",
       "7981    fma_small\n",
       "7982    fma_small\n",
       "7983    fma_small\n",
       "7984    fma_small\n",
       "Name: Genre, Length: 7985, dtype: object"
      ]
     },
     "execution_count": 3,
     "metadata": {},
     "output_type": "execute_result"
    }
   ],
   "source": [
    "# df = pd.read_csv(\"../datasets/fma/fma_small_extracted_features.csv\")\n",
    "# df[\"Genre\"]"
   ]
  },
  {
   "cell_type": "code",
   "execution_count": 4,
   "metadata": {},
   "outputs": [],
   "source": [
    "def columns():\n",
    "    feature_sizes = dict(chroma_stft=12, chroma_cqt=12, chroma_cens=12,\n",
    "                         mfcc=12, rms=1, spectral_centroid=1, spectral_bandwidth=1, \n",
    "                         spectral_contrast=7, spectral_flatness=1, spectral_rolloff=1,\n",
    "                         poly_features=3, tonnetz=6, zcr=1, dtempo=1,\n",
    "                         onset_strength=1, tempogram_ratio=13, plp=1)\n",
    "    single_features = ['onset_num', 'beats', 'tempo', 'dtempo_changes']\n",
    "    moments = ('mean', 'std', 'median', 'min', 'max')\n",
    "\n",
    "    columns = []\n",
    "    for name, size in feature_sizes.items():\n",
    "        for moment in moments:\n",
    "            it = (f\"{name}_{i:02d}_{moment}\" for i in range(size))\n",
    "            columns.extend(it)\n",
    "    # columns.extend(single_features)\n",
    "    columns = np.sort(np.array(columns))\n",
    "    columns = np.append(columns, single_features)\n",
    "    columns = np.append(columns, 'Genre')\n",
    "    return columns"
   ]
  },
  {
   "cell_type": "code",
   "execution_count": 5,
   "metadata": {},
   "outputs": [
    {
     "data": {
      "text/plain": [
       "435"
      ]
     },
     "execution_count": 5,
     "metadata": {},
     "output_type": "execute_result"
    }
   ],
   "source": [
    "len(columns())"
   ]
  },
  {
   "cell_type": "code",
   "execution_count": 21,
   "metadata": {},
   "outputs": [],
   "source": [
    "def count_value_changes(arr):\n",
    "    changes = 0\n",
    "    for i in range(1, len(arr)):\n",
    "        if arr[i] != arr[i - 1]:\n",
    "            changes += 1\n",
    "    return changes\n",
    "\n",
    "\n",
    "def calculate_features_for_single_record(file_path):\n",
    "    y, sr = librosa.load(file_path)\n",
    "    \n",
    "    chroma_stft = librosa.feature.chroma_stft(y=y, sr=sr, n_chroma=12)  #\n",
    "    chroma_cqt = librosa.feature.chroma_cqt(y=y, sr=sr, n_chroma=12)    #\n",
    "    chroma_cens = librosa.feature.chroma_cens(y=y, sr=sr)               #\n",
    "    mfcc = librosa.feature.mfcc(y=y, sr=sr, n_mfcc=12)                  #\n",
    "    rms = librosa.feature.rms(y=y)                                      #\n",
    "\n",
    "    spectral_centroid = librosa.feature.spectral_centroid(y=y, sr=sr)   #\n",
    "    spectral_bandwidth = librosa.feature.spectral_bandwidth(y=y, sr=sr) #\n",
    "    spectral_contrast = librosa.feature.spectral_contrast(y=y, sr=sr)   #\n",
    "    spectral_flatness = librosa.feature.spectral_flatness(y=y)          #\n",
    "    spectral_rolloff = librosa.feature.spectral_rolloff(y=y, sr=sr)     #\n",
    "\n",
    "    poly_features = librosa.feature.poly_features(y=y, sr=sr, order=2)  #\n",
    "    tonnetz = librosa.feature.tonnetz(y=librosa.effects.harmonic(y), sr=sr) #\n",
    "    zcr = librosa.feature.zero_crossing_rate(y)                         #\n",
    "\n",
    "    onset_env = librosa.onset.onset_strength(y=y, sr=sr)                #\n",
    "    plp = librosa.beat.plp(onset_envelope=onset_env, sr=sr)             #\n",
    "    \n",
    "    dtempo = librosa.feature.tempo(onset_envelope=onset_env, sr=sr, aggregate=None) #\n",
    "    tempogram_ratio = librosa.feature.tempogram_ratio(tg=librosa.feature.tempogram(y=y, sr=sr), sr=sr) #\n",
    "    \n",
    "    # Single features\n",
    "    dtempo_changes = count_value_changes(dtempo)\n",
    "    tempo, beats = librosa.beat.beat_track(y=y, sr=sr)\n",
    "    onset_num = len(librosa.onset.onset_detect(onset_envelope=onset_env, sr=sr))\n",
    "\n",
    "    moments = ['mean', 'std', 'median', 'min', 'max']\n",
    "\n",
    "    def aggregate_feature(feature):\n",
    "        return [np.max(feature), np.mean(feature), np.median(feature), np.min(feature), np.std(feature)]\n",
    "    \n",
    "    features = []\n",
    "\n",
    "    for f in [chroma_cens, chroma_cqt, chroma_stft, dtempo, mfcc, onset_env, plp, poly_features, rms, spectral_bandwidth,\n",
    "              spectral_centroid, spectral_contrast, spectral_flatness, spectral_rolloff, tempogram_ratio, \n",
    "              tonnetz, zcr]:\n",
    "        if f.ndim == 1:\n",
    "            features.extend(aggregate_feature(f))\n",
    "        else:\n",
    "            features.extend(np.hstack([aggregate_feature(f[i]) for i in range(f.shape[0])]))\n",
    "\n",
    "    features.append(onset_num)\n",
    "    features.append(len(beats))\n",
    "    features.append(tempo[0])\n",
    "    features.append(dtempo_changes)\n",
    "\n",
    "    genre = file_path.split('/')[-1].split(\"\\\\\")[0]\n",
    "    features.append(genre)\n",
    "\n",
    "    return features"
   ]
  },
  {
   "cell_type": "code",
   "execution_count": 7,
   "metadata": {},
   "outputs": [],
   "source": [
    "res = calculate_features_for_single_record('../datasets/fma/fma_small/Hip-Hop/000002.mp3')"
   ]
  },
  {
   "cell_type": "code",
   "execution_count": 8,
   "metadata": {},
   "outputs": [
    {
     "data": {
      "text/plain": [
       "435"
      ]
     },
     "execution_count": 8,
     "metadata": {},
     "output_type": "execute_result"
    }
   ],
   "source": [
    "len(res)"
   ]
  },
  {
   "cell_type": "markdown",
   "metadata": {},
   "source": [
    "# Creating a features `.csv` file"
   ]
  },
  {
   "cell_type": "code",
   "execution_count": 24,
   "metadata": {},
   "outputs": [
    {
     "data": {
      "text/html": [
       "<div>\n",
       "<style scoped>\n",
       "    .dataframe tbody tr th:only-of-type {\n",
       "        vertical-align: middle;\n",
       "    }\n",
       "\n",
       "    .dataframe tbody tr th {\n",
       "        vertical-align: top;\n",
       "    }\n",
       "\n",
       "    .dataframe thead th {\n",
       "        text-align: right;\n",
       "    }\n",
       "</style>\n",
       "<table border=\"1\" class=\"dataframe\">\n",
       "  <thead>\n",
       "    <tr style=\"text-align: right;\">\n",
       "      <th></th>\n",
       "      <th>chroma_cens_00_max</th>\n",
       "      <th>chroma_cens_00_mean</th>\n",
       "      <th>chroma_cens_00_median</th>\n",
       "      <th>chroma_cens_00_min</th>\n",
       "      <th>chroma_cens_00_std</th>\n",
       "      <th>chroma_cens_01_max</th>\n",
       "      <th>chroma_cens_01_mean</th>\n",
       "      <th>chroma_cens_01_median</th>\n",
       "      <th>chroma_cens_01_min</th>\n",
       "      <th>chroma_cens_01_std</th>\n",
       "      <th>...</th>\n",
       "      <th>zcr_00_max</th>\n",
       "      <th>zcr_00_mean</th>\n",
       "      <th>zcr_00_median</th>\n",
       "      <th>zcr_00_min</th>\n",
       "      <th>zcr_00_std</th>\n",
       "      <th>onset_num</th>\n",
       "      <th>beats</th>\n",
       "      <th>tempo</th>\n",
       "      <th>dtempo_changes</th>\n",
       "      <th>Genre</th>\n",
       "    </tr>\n",
       "  </thead>\n",
       "  <tbody>\n",
       "  </tbody>\n",
       "</table>\n",
       "<p>0 rows × 435 columns</p>\n",
       "</div>"
      ],
      "text/plain": [
       "Empty DataFrame\n",
       "Columns: [chroma_cens_00_max, chroma_cens_00_mean, chroma_cens_00_median, chroma_cens_00_min, chroma_cens_00_std, chroma_cens_01_max, chroma_cens_01_mean, chroma_cens_01_median, chroma_cens_01_min, chroma_cens_01_std, chroma_cens_02_max, chroma_cens_02_mean, chroma_cens_02_median, chroma_cens_02_min, chroma_cens_02_std, chroma_cens_03_max, chroma_cens_03_mean, chroma_cens_03_median, chroma_cens_03_min, chroma_cens_03_std, chroma_cens_04_max, chroma_cens_04_mean, chroma_cens_04_median, chroma_cens_04_min, chroma_cens_04_std, chroma_cens_05_max, chroma_cens_05_mean, chroma_cens_05_median, chroma_cens_05_min, chroma_cens_05_std, chroma_cens_06_max, chroma_cens_06_mean, chroma_cens_06_median, chroma_cens_06_min, chroma_cens_06_std, chroma_cens_07_max, chroma_cens_07_mean, chroma_cens_07_median, chroma_cens_07_min, chroma_cens_07_std, chroma_cens_08_max, chroma_cens_08_mean, chroma_cens_08_median, chroma_cens_08_min, chroma_cens_08_std, chroma_cens_09_max, chroma_cens_09_mean, chroma_cens_09_median, chroma_cens_09_min, chroma_cens_09_std, chroma_cens_10_max, chroma_cens_10_mean, chroma_cens_10_median, chroma_cens_10_min, chroma_cens_10_std, chroma_cens_11_max, chroma_cens_11_mean, chroma_cens_11_median, chroma_cens_11_min, chroma_cens_11_std, chroma_cqt_00_max, chroma_cqt_00_mean, chroma_cqt_00_median, chroma_cqt_00_min, chroma_cqt_00_std, chroma_cqt_01_max, chroma_cqt_01_mean, chroma_cqt_01_median, chroma_cqt_01_min, chroma_cqt_01_std, chroma_cqt_02_max, chroma_cqt_02_mean, chroma_cqt_02_median, chroma_cqt_02_min, chroma_cqt_02_std, chroma_cqt_03_max, chroma_cqt_03_mean, chroma_cqt_03_median, chroma_cqt_03_min, chroma_cqt_03_std, chroma_cqt_04_max, chroma_cqt_04_mean, chroma_cqt_04_median, chroma_cqt_04_min, chroma_cqt_04_std, chroma_cqt_05_max, chroma_cqt_05_mean, chroma_cqt_05_median, chroma_cqt_05_min, chroma_cqt_05_std, chroma_cqt_06_max, chroma_cqt_06_mean, chroma_cqt_06_median, chroma_cqt_06_min, chroma_cqt_06_std, chroma_cqt_07_max, chroma_cqt_07_mean, chroma_cqt_07_median, chroma_cqt_07_min, chroma_cqt_07_std, ...]\n",
       "Index: []\n",
       "\n",
       "[0 rows x 435 columns]"
      ]
     },
     "execution_count": 24,
     "metadata": {},
     "output_type": "execute_result"
    }
   ],
   "source": [
    "from tqdm import tqdm\n",
    "import os\n",
    "\n",
    "df_features = pd.DataFrame(columns=columns())\n",
    "df_features"
   ]
  },
  {
   "cell_type": "code",
   "execution_count": 25,
   "metadata": {},
   "outputs": [
    {
     "name": "stderr",
     "output_type": "stream",
     "text": [
      "Processing files:   0%|          | 11/7994 [00:24<4:50:42,  2.18s/it]\n"
     ]
    },
    {
     "ename": "KeyboardInterrupt",
     "evalue": "",
     "output_type": "error",
     "traceback": [
      "\u001b[1;31m---------------------------------------------------------------------------\u001b[0m",
      "\u001b[1;31mKeyboardInterrupt\u001b[0m                         Traceback (most recent call last)",
      "Cell \u001b[1;32mIn[25], line 15\u001b[0m\n\u001b[0;32m     13\u001b[0m path \u001b[38;5;241m=\u001b[39m os\u001b[38;5;241m.\u001b[39mpath\u001b[38;5;241m.\u001b[39mjoin(folder_path, file)\n\u001b[0;32m     14\u001b[0m \u001b[38;5;28;01mtry\u001b[39;00m:\n\u001b[1;32m---> 15\u001b[0m     features \u001b[38;5;241m=\u001b[39m \u001b[43mcalculate_features_for_single_record\u001b[49m\u001b[43m(\u001b[49m\u001b[43mpath\u001b[49m\u001b[43m)\u001b[49m\n\u001b[0;32m     16\u001b[0m     \u001b[38;5;66;03m# df_features.loc[len(df_features)] = features\u001b[39;00m\n\u001b[0;32m     17\u001b[0m     all_features\u001b[38;5;241m.\u001b[39mappend(features)\n",
      "Cell \u001b[1;32mIn[21], line 14\u001b[0m, in \u001b[0;36mcalculate_features_for_single_record\u001b[1;34m(file_path)\u001b[0m\n\u001b[0;32m     12\u001b[0m chroma_stft \u001b[38;5;241m=\u001b[39m librosa\u001b[38;5;241m.\u001b[39mfeature\u001b[38;5;241m.\u001b[39mchroma_stft(y\u001b[38;5;241m=\u001b[39my, sr\u001b[38;5;241m=\u001b[39msr, n_chroma\u001b[38;5;241m=\u001b[39m\u001b[38;5;241m12\u001b[39m)  \u001b[38;5;66;03m#\u001b[39;00m\n\u001b[0;32m     13\u001b[0m chroma_cqt \u001b[38;5;241m=\u001b[39m librosa\u001b[38;5;241m.\u001b[39mfeature\u001b[38;5;241m.\u001b[39mchroma_cqt(y\u001b[38;5;241m=\u001b[39my, sr\u001b[38;5;241m=\u001b[39msr, n_chroma\u001b[38;5;241m=\u001b[39m\u001b[38;5;241m12\u001b[39m)    \u001b[38;5;66;03m#\u001b[39;00m\n\u001b[1;32m---> 14\u001b[0m chroma_cens \u001b[38;5;241m=\u001b[39m \u001b[43mlibrosa\u001b[49m\u001b[38;5;241;43m.\u001b[39;49m\u001b[43mfeature\u001b[49m\u001b[38;5;241;43m.\u001b[39;49m\u001b[43mchroma_cens\u001b[49m\u001b[43m(\u001b[49m\u001b[43my\u001b[49m\u001b[38;5;241;43m=\u001b[39;49m\u001b[43my\u001b[49m\u001b[43m,\u001b[49m\u001b[43m \u001b[49m\u001b[43msr\u001b[49m\u001b[38;5;241;43m=\u001b[39;49m\u001b[43msr\u001b[49m\u001b[43m)\u001b[49m               \u001b[38;5;66;03m#\u001b[39;00m\n\u001b[0;32m     15\u001b[0m mfcc \u001b[38;5;241m=\u001b[39m librosa\u001b[38;5;241m.\u001b[39mfeature\u001b[38;5;241m.\u001b[39mmfcc(y\u001b[38;5;241m=\u001b[39my, sr\u001b[38;5;241m=\u001b[39msr, n_mfcc\u001b[38;5;241m=\u001b[39m\u001b[38;5;241m12\u001b[39m)                  \u001b[38;5;66;03m#\u001b[39;00m\n\u001b[0;32m     16\u001b[0m rms \u001b[38;5;241m=\u001b[39m librosa\u001b[38;5;241m.\u001b[39mfeature\u001b[38;5;241m.\u001b[39mrms(y\u001b[38;5;241m=\u001b[39my)                                      \u001b[38;5;66;03m#\u001b[39;00m\n",
      "File \u001b[1;32mc:\\Users\\szyme\\Documents\\Praca_Magisterska\\Musical-Genres-Classification\\.venv\\lib\\site-packages\\librosa\\feature\\spectral.py:1522\u001b[0m, in \u001b[0;36mchroma_cens\u001b[1;34m(y, sr, C, hop_length, fmin, tuning, n_chroma, n_octaves, bins_per_octave, cqt_mode, window, norm, win_len_smooth, smoothing_window)\u001b[0m\n\u001b[0;32m   1514\u001b[0m \u001b[38;5;28;01mif\u001b[39;00m \u001b[38;5;129;01mnot\u001b[39;00m (\n\u001b[0;32m   1515\u001b[0m     (win_len_smooth \u001b[38;5;129;01mis\u001b[39;00m \u001b[38;5;28;01mNone\u001b[39;00m)\n\u001b[0;32m   1516\u001b[0m     \u001b[38;5;129;01mor\u001b[39;00m (\u001b[38;5;28misinstance\u001b[39m(win_len_smooth, (\u001b[38;5;28mint\u001b[39m, np\u001b[38;5;241m.\u001b[39minteger)) \u001b[38;5;129;01mand\u001b[39;00m win_len_smooth \u001b[38;5;241m>\u001b[39m \u001b[38;5;241m0\u001b[39m)\n\u001b[0;32m   1517\u001b[0m ):\n\u001b[0;32m   1518\u001b[0m     \u001b[38;5;28;01mraise\u001b[39;00m ParameterError(\n\u001b[0;32m   1519\u001b[0m         \u001b[38;5;124mf\u001b[39m\u001b[38;5;124m\"\u001b[39m\u001b[38;5;124mwin_len_smooth=\u001b[39m\u001b[38;5;132;01m{\u001b[39;00mwin_len_smooth\u001b[38;5;132;01m}\u001b[39;00m\u001b[38;5;124m must be a positive integer or None\u001b[39m\u001b[38;5;124m\"\u001b[39m\n\u001b[0;32m   1520\u001b[0m     )\n\u001b[1;32m-> 1522\u001b[0m chroma \u001b[38;5;241m=\u001b[39m \u001b[43mchroma_cqt\u001b[49m\u001b[43m(\u001b[49m\n\u001b[0;32m   1523\u001b[0m \u001b[43m    \u001b[49m\u001b[43my\u001b[49m\u001b[38;5;241;43m=\u001b[39;49m\u001b[43my\u001b[49m\u001b[43m,\u001b[49m\n\u001b[0;32m   1524\u001b[0m \u001b[43m    \u001b[49m\u001b[43mC\u001b[49m\u001b[38;5;241;43m=\u001b[39;49m\u001b[43mC\u001b[49m\u001b[43m,\u001b[49m\n\u001b[0;32m   1525\u001b[0m \u001b[43m    \u001b[49m\u001b[43msr\u001b[49m\u001b[38;5;241;43m=\u001b[39;49m\u001b[43msr\u001b[49m\u001b[43m,\u001b[49m\n\u001b[0;32m   1526\u001b[0m \u001b[43m    \u001b[49m\u001b[43mhop_length\u001b[49m\u001b[38;5;241;43m=\u001b[39;49m\u001b[43mhop_length\u001b[49m\u001b[43m,\u001b[49m\n\u001b[0;32m   1527\u001b[0m \u001b[43m    \u001b[49m\u001b[43mfmin\u001b[49m\u001b[38;5;241;43m=\u001b[39;49m\u001b[43mfmin\u001b[49m\u001b[43m,\u001b[49m\n\u001b[0;32m   1528\u001b[0m \u001b[43m    \u001b[49m\u001b[43mbins_per_octave\u001b[49m\u001b[38;5;241;43m=\u001b[39;49m\u001b[43mbins_per_octave\u001b[49m\u001b[43m,\u001b[49m\n\u001b[0;32m   1529\u001b[0m \u001b[43m    \u001b[49m\u001b[43mtuning\u001b[49m\u001b[38;5;241;43m=\u001b[39;49m\u001b[43mtuning\u001b[49m\u001b[43m,\u001b[49m\n\u001b[0;32m   1530\u001b[0m \u001b[43m    \u001b[49m\u001b[43mnorm\u001b[49m\u001b[38;5;241;43m=\u001b[39;49m\u001b[38;5;28;43;01mNone\u001b[39;49;00m\u001b[43m,\u001b[49m\n\u001b[0;32m   1531\u001b[0m \u001b[43m    \u001b[49m\u001b[43mn_chroma\u001b[49m\u001b[38;5;241;43m=\u001b[39;49m\u001b[43mn_chroma\u001b[49m\u001b[43m,\u001b[49m\n\u001b[0;32m   1532\u001b[0m \u001b[43m    \u001b[49m\u001b[43mn_octaves\u001b[49m\u001b[38;5;241;43m=\u001b[39;49m\u001b[43mn_octaves\u001b[49m\u001b[43m,\u001b[49m\n\u001b[0;32m   1533\u001b[0m \u001b[43m    \u001b[49m\u001b[43mcqt_mode\u001b[49m\u001b[38;5;241;43m=\u001b[39;49m\u001b[43mcqt_mode\u001b[49m\u001b[43m,\u001b[49m\n\u001b[0;32m   1534\u001b[0m \u001b[43m    \u001b[49m\u001b[43mwindow\u001b[49m\u001b[38;5;241;43m=\u001b[39;49m\u001b[43mwindow\u001b[49m\u001b[43m,\u001b[49m\n\u001b[0;32m   1535\u001b[0m \u001b[43m\u001b[49m\u001b[43m)\u001b[49m\n\u001b[0;32m   1537\u001b[0m \u001b[38;5;66;03m# L1-Normalization\u001b[39;00m\n\u001b[0;32m   1538\u001b[0m chroma \u001b[38;5;241m=\u001b[39m util\u001b[38;5;241m.\u001b[39mnormalize(chroma, norm\u001b[38;5;241m=\u001b[39m\u001b[38;5;241m1\u001b[39m, axis\u001b[38;5;241m=\u001b[39m\u001b[38;5;241m-\u001b[39m\u001b[38;5;241m2\u001b[39m)\n",
      "File \u001b[1;32mc:\\Users\\szyme\\Documents\\Praca_Magisterska\\Musical-Genres-Classification\\.venv\\lib\\site-packages\\librosa\\feature\\spectral.py:1386\u001b[0m, in \u001b[0;36mchroma_cqt\u001b[1;34m(y, sr, C, hop_length, fmin, norm, threshold, tuning, n_chroma, n_octaves, window, bins_per_octave, cqt_mode)\u001b[0m\n\u001b[0;32m   1381\u001b[0m     \u001b[38;5;28;01mif\u001b[39;00m y \u001b[38;5;129;01mis\u001b[39;00m \u001b[38;5;28;01mNone\u001b[39;00m:\n\u001b[0;32m   1382\u001b[0m         \u001b[38;5;28;01mraise\u001b[39;00m ParameterError(\n\u001b[0;32m   1383\u001b[0m             \u001b[38;5;124m\"\u001b[39m\u001b[38;5;124mAt least one of C or y must be provided to compute chroma\u001b[39m\u001b[38;5;124m\"\u001b[39m\n\u001b[0;32m   1384\u001b[0m         )\n\u001b[0;32m   1385\u001b[0m     C \u001b[38;5;241m=\u001b[39m np\u001b[38;5;241m.\u001b[39mabs(\n\u001b[1;32m-> 1386\u001b[0m         \u001b[43mcqt_func\u001b[49m\u001b[43m[\u001b[49m\u001b[43mcqt_mode\u001b[49m\u001b[43m]\u001b[49m\u001b[43m(\u001b[49m\n\u001b[0;32m   1387\u001b[0m \u001b[43m            \u001b[49m\u001b[43my\u001b[49m\u001b[43m,\u001b[49m\n\u001b[0;32m   1388\u001b[0m \u001b[43m            \u001b[49m\u001b[43msr\u001b[49m\u001b[38;5;241;43m=\u001b[39;49m\u001b[43msr\u001b[49m\u001b[43m,\u001b[49m\n\u001b[0;32m   1389\u001b[0m \u001b[43m            \u001b[49m\u001b[43mhop_length\u001b[49m\u001b[38;5;241;43m=\u001b[39;49m\u001b[43mhop_length\u001b[49m\u001b[43m,\u001b[49m\n\u001b[0;32m   1390\u001b[0m \u001b[43m            \u001b[49m\u001b[43mfmin\u001b[49m\u001b[38;5;241;43m=\u001b[39;49m\u001b[43mfmin\u001b[49m\u001b[43m,\u001b[49m\n\u001b[0;32m   1391\u001b[0m \u001b[43m            \u001b[49m\u001b[43mn_bins\u001b[49m\u001b[38;5;241;43m=\u001b[39;49m\u001b[43mn_octaves\u001b[49m\u001b[43m \u001b[49m\u001b[38;5;241;43m*\u001b[39;49m\u001b[43m \u001b[49m\u001b[43mbins_per_octave\u001b[49m\u001b[43m,\u001b[49m\n\u001b[0;32m   1392\u001b[0m \u001b[43m            \u001b[49m\u001b[43mbins_per_octave\u001b[49m\u001b[38;5;241;43m=\u001b[39;49m\u001b[43mbins_per_octave\u001b[49m\u001b[43m,\u001b[49m\n\u001b[0;32m   1393\u001b[0m \u001b[43m            \u001b[49m\u001b[43mtuning\u001b[49m\u001b[38;5;241;43m=\u001b[39;49m\u001b[43mtuning\u001b[49m\u001b[43m,\u001b[49m\n\u001b[0;32m   1394\u001b[0m \u001b[43m        \u001b[49m\u001b[43m)\u001b[49m\n\u001b[0;32m   1395\u001b[0m     )\n\u001b[0;32m   1397\u001b[0m \u001b[38;5;66;03m# Map to chroma\u001b[39;00m\n\u001b[0;32m   1398\u001b[0m cq_to_chr \u001b[38;5;241m=\u001b[39m filters\u001b[38;5;241m.\u001b[39mcq_to_chroma(\n\u001b[0;32m   1399\u001b[0m     C\u001b[38;5;241m.\u001b[39mshape[\u001b[38;5;241m-\u001b[39m\u001b[38;5;241m2\u001b[39m],\n\u001b[0;32m   1400\u001b[0m     bins_per_octave\u001b[38;5;241m=\u001b[39mbins_per_octave,\n\u001b[1;32m   (...)\u001b[0m\n\u001b[0;32m   1403\u001b[0m     window\u001b[38;5;241m=\u001b[39mwindow,\n\u001b[0;32m   1404\u001b[0m )\n",
      "File \u001b[1;32mc:\\Users\\szyme\\Documents\\Praca_Magisterska\\Musical-Genres-Classification\\.venv\\lib\\site-packages\\librosa\\core\\constantq.py:171\u001b[0m, in \u001b[0;36mcqt\u001b[1;34m(y, sr, hop_length, fmin, n_bins, bins_per_octave, tuning, filter_scale, norm, sparsity, window, scale, pad_mode, res_type, dtype)\u001b[0m\n\u001b[0;32m     46\u001b[0m \u001b[38;5;250m\u001b[39m\u001b[38;5;124;03m\"\"\"Compute the constant-Q transform of an audio signal.\u001b[39;00m\n\u001b[0;32m     47\u001b[0m \n\u001b[0;32m     48\u001b[0m \u001b[38;5;124;03mThis implementation is based on the recursive sub-sampling method\u001b[39;00m\n\u001b[1;32m   (...)\u001b[0m\n\u001b[0;32m    168\u001b[0m \u001b[38;5;124;03m       [5.147e-02, 6.959e-02, ..., 1.694e-05, 5.811e-06]])\u001b[39;00m\n\u001b[0;32m    169\u001b[0m \u001b[38;5;124;03m\"\"\"\u001b[39;00m\n\u001b[0;32m    170\u001b[0m \u001b[38;5;66;03m# CQT is the special case of VQT with gamma=0\u001b[39;00m\n\u001b[1;32m--> 171\u001b[0m \u001b[38;5;28;01mreturn\u001b[39;00m \u001b[43mvqt\u001b[49m\u001b[43m(\u001b[49m\n\u001b[0;32m    172\u001b[0m \u001b[43m    \u001b[49m\u001b[43my\u001b[49m\u001b[38;5;241;43m=\u001b[39;49m\u001b[43my\u001b[49m\u001b[43m,\u001b[49m\n\u001b[0;32m    173\u001b[0m \u001b[43m    \u001b[49m\u001b[43msr\u001b[49m\u001b[38;5;241;43m=\u001b[39;49m\u001b[43msr\u001b[49m\u001b[43m,\u001b[49m\n\u001b[0;32m    174\u001b[0m \u001b[43m    \u001b[49m\u001b[43mhop_length\u001b[49m\u001b[38;5;241;43m=\u001b[39;49m\u001b[43mhop_length\u001b[49m\u001b[43m,\u001b[49m\n\u001b[0;32m    175\u001b[0m \u001b[43m    \u001b[49m\u001b[43mfmin\u001b[49m\u001b[38;5;241;43m=\u001b[39;49m\u001b[43mfmin\u001b[49m\u001b[43m,\u001b[49m\n\u001b[0;32m    176\u001b[0m \u001b[43m    \u001b[49m\u001b[43mn_bins\u001b[49m\u001b[38;5;241;43m=\u001b[39;49m\u001b[43mn_bins\u001b[49m\u001b[43m,\u001b[49m\n\u001b[0;32m    177\u001b[0m \u001b[43m    \u001b[49m\u001b[43mintervals\u001b[49m\u001b[38;5;241;43m=\u001b[39;49m\u001b[38;5;124;43m\"\u001b[39;49m\u001b[38;5;124;43mequal\u001b[39;49m\u001b[38;5;124;43m\"\u001b[39;49m\u001b[43m,\u001b[49m\n\u001b[0;32m    178\u001b[0m \u001b[43m    \u001b[49m\u001b[43mgamma\u001b[49m\u001b[38;5;241;43m=\u001b[39;49m\u001b[38;5;241;43m0\u001b[39;49m\u001b[43m,\u001b[49m\n\u001b[0;32m    179\u001b[0m \u001b[43m    \u001b[49m\u001b[43mbins_per_octave\u001b[49m\u001b[38;5;241;43m=\u001b[39;49m\u001b[43mbins_per_octave\u001b[49m\u001b[43m,\u001b[49m\n\u001b[0;32m    180\u001b[0m \u001b[43m    \u001b[49m\u001b[43mtuning\u001b[49m\u001b[38;5;241;43m=\u001b[39;49m\u001b[43mtuning\u001b[49m\u001b[43m,\u001b[49m\n\u001b[0;32m    181\u001b[0m \u001b[43m    \u001b[49m\u001b[43mfilter_scale\u001b[49m\u001b[38;5;241;43m=\u001b[39;49m\u001b[43mfilter_scale\u001b[49m\u001b[43m,\u001b[49m\n\u001b[0;32m    182\u001b[0m \u001b[43m    \u001b[49m\u001b[43mnorm\u001b[49m\u001b[38;5;241;43m=\u001b[39;49m\u001b[43mnorm\u001b[49m\u001b[43m,\u001b[49m\n\u001b[0;32m    183\u001b[0m \u001b[43m    \u001b[49m\u001b[43msparsity\u001b[49m\u001b[38;5;241;43m=\u001b[39;49m\u001b[43msparsity\u001b[49m\u001b[43m,\u001b[49m\n\u001b[0;32m    184\u001b[0m \u001b[43m    \u001b[49m\u001b[43mwindow\u001b[49m\u001b[38;5;241;43m=\u001b[39;49m\u001b[43mwindow\u001b[49m\u001b[43m,\u001b[49m\n\u001b[0;32m    185\u001b[0m \u001b[43m    \u001b[49m\u001b[43mscale\u001b[49m\u001b[38;5;241;43m=\u001b[39;49m\u001b[43mscale\u001b[49m\u001b[43m,\u001b[49m\n\u001b[0;32m    186\u001b[0m \u001b[43m    \u001b[49m\u001b[43mpad_mode\u001b[49m\u001b[38;5;241;43m=\u001b[39;49m\u001b[43mpad_mode\u001b[49m\u001b[43m,\u001b[49m\n\u001b[0;32m    187\u001b[0m \u001b[43m    \u001b[49m\u001b[43mres_type\u001b[49m\u001b[38;5;241;43m=\u001b[39;49m\u001b[43mres_type\u001b[49m\u001b[43m,\u001b[49m\n\u001b[0;32m    188\u001b[0m \u001b[43m    \u001b[49m\u001b[43mdtype\u001b[49m\u001b[38;5;241;43m=\u001b[39;49m\u001b[43mdtype\u001b[49m\u001b[43m,\u001b[49m\n\u001b[0;32m    189\u001b[0m \u001b[43m\u001b[49m\u001b[43m)\u001b[49m\n",
      "File \u001b[1;32mc:\\Users\\szyme\\Documents\\Praca_Magisterska\\Musical-Genres-Classification\\.venv\\lib\\site-packages\\librosa\\core\\constantq.py:1017\u001b[0m, in \u001b[0;36mvqt\u001b[1;34m(y, sr, hop_length, fmin, n_bins, intervals, gamma, bins_per_octave, tuning, filter_scale, norm, sparsity, window, scale, pad_mode, res_type, dtype)\u001b[0m\n\u001b[0;32m   1013\u001b[0m fft_basis[:] \u001b[38;5;241m*\u001b[39m\u001b[38;5;241m=\u001b[39m np\u001b[38;5;241m.\u001b[39msqrt(sr \u001b[38;5;241m/\u001b[39m my_sr)\n\u001b[0;32m   1015\u001b[0m \u001b[38;5;66;03m# Compute the vqt filter response and append to the stack\u001b[39;00m\n\u001b[0;32m   1016\u001b[0m vqt_resp\u001b[38;5;241m.\u001b[39mappend(\n\u001b[1;32m-> 1017\u001b[0m     \u001b[43m__cqt_response\u001b[49m\u001b[43m(\u001b[49m\u001b[43mmy_y\u001b[49m\u001b[43m,\u001b[49m\u001b[43m \u001b[49m\u001b[43mn_fft\u001b[49m\u001b[43m,\u001b[49m\u001b[43m \u001b[49m\u001b[43mmy_hop\u001b[49m\u001b[43m,\u001b[49m\u001b[43m \u001b[49m\u001b[43mfft_basis\u001b[49m\u001b[43m,\u001b[49m\u001b[43m \u001b[49m\u001b[43mpad_mode\u001b[49m\u001b[43m,\u001b[49m\u001b[43m \u001b[49m\u001b[43mdtype\u001b[49m\u001b[38;5;241;43m=\u001b[39;49m\u001b[43mdtype\u001b[49m\u001b[43m)\u001b[49m\n\u001b[0;32m   1018\u001b[0m )\n\u001b[0;32m   1020\u001b[0m \u001b[38;5;28;01mif\u001b[39;00m my_hop \u001b[38;5;241m%\u001b[39m \u001b[38;5;241m2\u001b[39m \u001b[38;5;241m==\u001b[39m \u001b[38;5;241m0\u001b[39m:\n\u001b[0;32m   1021\u001b[0m     my_hop \u001b[38;5;241m/\u001b[39m\u001b[38;5;241m/\u001b[39m\u001b[38;5;241m=\u001b[39m \u001b[38;5;241m2\u001b[39m\n",
      "File \u001b[1;32mc:\\Users\\szyme\\Documents\\Praca_Magisterska\\Musical-Genres-Classification\\.venv\\lib\\site-packages\\librosa\\core\\constantq.py:1125\u001b[0m, in \u001b[0;36m__cqt_response\u001b[1;34m(y, n_fft, hop_length, fft_basis, mode, window, phase, dtype)\u001b[0m\n\u001b[0;32m   1123\u001b[0m \u001b[38;5;250m\u001b[39m\u001b[38;5;124;03m\"\"\"Compute the filter response with a target STFT hop.\"\"\"\u001b[39;00m\n\u001b[0;32m   1124\u001b[0m \u001b[38;5;66;03m# Compute the STFT matrix\u001b[39;00m\n\u001b[1;32m-> 1125\u001b[0m D \u001b[38;5;241m=\u001b[39m \u001b[43mstft\u001b[49m\u001b[43m(\u001b[49m\n\u001b[0;32m   1126\u001b[0m \u001b[43m    \u001b[49m\u001b[43my\u001b[49m\u001b[43m,\u001b[49m\u001b[43m \u001b[49m\u001b[43mn_fft\u001b[49m\u001b[38;5;241;43m=\u001b[39;49m\u001b[43mn_fft\u001b[49m\u001b[43m,\u001b[49m\u001b[43m \u001b[49m\u001b[43mhop_length\u001b[49m\u001b[38;5;241;43m=\u001b[39;49m\u001b[43mhop_length\u001b[49m\u001b[43m,\u001b[49m\u001b[43m \u001b[49m\u001b[43mwindow\u001b[49m\u001b[38;5;241;43m=\u001b[39;49m\u001b[43mwindow\u001b[49m\u001b[43m,\u001b[49m\u001b[43m \u001b[49m\u001b[43mpad_mode\u001b[49m\u001b[38;5;241;43m=\u001b[39;49m\u001b[43mmode\u001b[49m\u001b[43m,\u001b[49m\u001b[43m \u001b[49m\u001b[43mdtype\u001b[49m\u001b[38;5;241;43m=\u001b[39;49m\u001b[43mdtype\u001b[49m\n\u001b[0;32m   1127\u001b[0m \u001b[43m\u001b[49m\u001b[43m)\u001b[49m\n\u001b[0;32m   1129\u001b[0m \u001b[38;5;28;01mif\u001b[39;00m \u001b[38;5;129;01mnot\u001b[39;00m phase:\n\u001b[0;32m   1130\u001b[0m     D \u001b[38;5;241m=\u001b[39m np\u001b[38;5;241m.\u001b[39mabs(D)\n",
      "File \u001b[1;32mc:\\Users\\szyme\\Documents\\Praca_Magisterska\\Musical-Genres-Classification\\.venv\\lib\\site-packages\\librosa\\core\\spectrum.py:387\u001b[0m, in \u001b[0;36mstft\u001b[1;34m(y, n_fft, hop_length, win_length, window, center, dtype, pad_mode, out)\u001b[0m\n\u001b[0;32m    384\u001b[0m \u001b[38;5;28;01mfor\u001b[39;00m bl_s \u001b[38;5;129;01min\u001b[39;00m \u001b[38;5;28mrange\u001b[39m(\u001b[38;5;241m0\u001b[39m, y_frames\u001b[38;5;241m.\u001b[39mshape[\u001b[38;5;241m-\u001b[39m\u001b[38;5;241m1\u001b[39m], n_columns):\n\u001b[0;32m    385\u001b[0m     bl_t \u001b[38;5;241m=\u001b[39m \u001b[38;5;28mmin\u001b[39m(bl_s \u001b[38;5;241m+\u001b[39m n_columns, y_frames\u001b[38;5;241m.\u001b[39mshape[\u001b[38;5;241m-\u001b[39m\u001b[38;5;241m1\u001b[39m])\n\u001b[1;32m--> 387\u001b[0m     stft_matrix[\u001b[38;5;241m.\u001b[39m\u001b[38;5;241m.\u001b[39m\u001b[38;5;241m.\u001b[39m, bl_s \u001b[38;5;241m+\u001b[39m off_start : bl_t \u001b[38;5;241m+\u001b[39m off_start] \u001b[38;5;241m=\u001b[39m \u001b[43mfft\u001b[49m\u001b[38;5;241;43m.\u001b[39;49m\u001b[43mrfft\u001b[49m\u001b[43m(\u001b[49m\n\u001b[0;32m    388\u001b[0m \u001b[43m        \u001b[49m\u001b[43mfft_window\u001b[49m\u001b[43m \u001b[49m\u001b[38;5;241;43m*\u001b[39;49m\u001b[43m \u001b[49m\u001b[43my_frames\u001b[49m\u001b[43m[\u001b[49m\u001b[38;5;241;43m.\u001b[39;49m\u001b[38;5;241;43m.\u001b[39;49m\u001b[38;5;241;43m.\u001b[39;49m\u001b[43m,\u001b[49m\u001b[43m \u001b[49m\u001b[43mbl_s\u001b[49m\u001b[43m:\u001b[49m\u001b[43mbl_t\u001b[49m\u001b[43m]\u001b[49m\u001b[43m,\u001b[49m\u001b[43m \u001b[49m\u001b[43maxis\u001b[49m\u001b[38;5;241;43m=\u001b[39;49m\u001b[38;5;241;43m-\u001b[39;49m\u001b[38;5;241;43m2\u001b[39;49m\n\u001b[0;32m    389\u001b[0m \u001b[43m    \u001b[49m\u001b[43m)\u001b[49m\n\u001b[0;32m    390\u001b[0m \u001b[38;5;28;01mreturn\u001b[39;00m stft_matrix\n",
      "File \u001b[1;32mc:\\Users\\szyme\\Documents\\Praca_Magisterska\\Musical-Genres-Classification\\.venv\\lib\\site-packages\\numpy\\fft\\_pocketfft.py:414\u001b[0m, in \u001b[0;36mrfft\u001b[1;34m(a, n, axis, norm, out)\u001b[0m\n\u001b[0;32m    412\u001b[0m \u001b[38;5;28;01mif\u001b[39;00m n \u001b[38;5;129;01mis\u001b[39;00m \u001b[38;5;28;01mNone\u001b[39;00m:\n\u001b[0;32m    413\u001b[0m     n \u001b[38;5;241m=\u001b[39m a\u001b[38;5;241m.\u001b[39mshape[axis]\n\u001b[1;32m--> 414\u001b[0m output \u001b[38;5;241m=\u001b[39m \u001b[43m_raw_fft\u001b[49m\u001b[43m(\u001b[49m\u001b[43ma\u001b[49m\u001b[43m,\u001b[49m\u001b[43m \u001b[49m\u001b[43mn\u001b[49m\u001b[43m,\u001b[49m\u001b[43m \u001b[49m\u001b[43maxis\u001b[49m\u001b[43m,\u001b[49m\u001b[43m \u001b[49m\u001b[38;5;28;43;01mTrue\u001b[39;49;00m\u001b[43m,\u001b[49m\u001b[43m \u001b[49m\u001b[38;5;28;43;01mTrue\u001b[39;49;00m\u001b[43m,\u001b[49m\u001b[43m \u001b[49m\u001b[43mnorm\u001b[49m\u001b[43m,\u001b[49m\u001b[43m \u001b[49m\u001b[43mout\u001b[49m\u001b[38;5;241;43m=\u001b[39;49m\u001b[43mout\u001b[49m\u001b[43m)\u001b[49m\n\u001b[0;32m    415\u001b[0m \u001b[38;5;28;01mreturn\u001b[39;00m output\n",
      "File \u001b[1;32mc:\\Users\\szyme\\Documents\\Praca_Magisterska\\Musical-Genres-Classification\\.venv\\lib\\site-packages\\numpy\\fft\\_pocketfft.py:94\u001b[0m, in \u001b[0;36m_raw_fft\u001b[1;34m(a, n, axis, is_real, is_forward, norm, out)\u001b[0m\n\u001b[0;32m     90\u001b[0m \u001b[38;5;28;01melif\u001b[39;00m ((shape \u001b[38;5;241m:=\u001b[39m \u001b[38;5;28mgetattr\u001b[39m(out, \u001b[38;5;124m\"\u001b[39m\u001b[38;5;124mshape\u001b[39m\u001b[38;5;124m\"\u001b[39m, \u001b[38;5;28;01mNone\u001b[39;00m)) \u001b[38;5;129;01mis\u001b[39;00m \u001b[38;5;129;01mnot\u001b[39;00m \u001b[38;5;28;01mNone\u001b[39;00m\n\u001b[0;32m     91\u001b[0m       \u001b[38;5;129;01mand\u001b[39;00m (\u001b[38;5;28mlen\u001b[39m(shape) \u001b[38;5;241m!=\u001b[39m a\u001b[38;5;241m.\u001b[39mndim \u001b[38;5;129;01mor\u001b[39;00m shape[axis] \u001b[38;5;241m!=\u001b[39m n_out)):\n\u001b[0;32m     92\u001b[0m     \u001b[38;5;28;01mraise\u001b[39;00m \u001b[38;5;167;01mValueError\u001b[39;00m(\u001b[38;5;124m\"\u001b[39m\u001b[38;5;124moutput array has wrong shape.\u001b[39m\u001b[38;5;124m\"\u001b[39m)\n\u001b[1;32m---> 94\u001b[0m \u001b[38;5;28;01mreturn\u001b[39;00m \u001b[43mufunc\u001b[49m\u001b[43m(\u001b[49m\u001b[43ma\u001b[49m\u001b[43m,\u001b[49m\u001b[43m \u001b[49m\u001b[43mfct\u001b[49m\u001b[43m,\u001b[49m\u001b[43m \u001b[49m\u001b[43maxes\u001b[49m\u001b[38;5;241;43m=\u001b[39;49m\u001b[43m[\u001b[49m\u001b[43m(\u001b[49m\u001b[43maxis\u001b[49m\u001b[43m,\u001b[49m\u001b[43m)\u001b[49m\u001b[43m,\u001b[49m\u001b[43m \u001b[49m\u001b[43m(\u001b[49m\u001b[43m)\u001b[49m\u001b[43m,\u001b[49m\u001b[43m \u001b[49m\u001b[43m(\u001b[49m\u001b[43maxis\u001b[49m\u001b[43m,\u001b[49m\u001b[43m)\u001b[49m\u001b[43m]\u001b[49m\u001b[43m,\u001b[49m\u001b[43m \u001b[49m\u001b[43mout\u001b[49m\u001b[38;5;241;43m=\u001b[39;49m\u001b[43mout\u001b[49m\u001b[43m)\u001b[49m\n",
      "\u001b[1;31mKeyboardInterrupt\u001b[0m: "
     ]
    }
   ],
   "source": [
    "rootdir = '../datasets/fma/fma_small/'\n",
    "all_features = []\n",
    "\n",
    "total_files = sum([len(files) for r, d, files in os.walk(rootdir) if any(f.endswith('.mp3') for f in files)])\n",
    "\n",
    "with tqdm(total=total_files, desc=\"Processing files\") as pbar:\n",
    "    for subdir, dirs, _ in os.walk(rootdir):\n",
    "        for folder in dirs:\n",
    "            folder_path = os.path.join(subdir, folder)\n",
    "            for _, _, files in os.walk(folder_path):\n",
    "                for file in files:\n",
    "                    if file.endswith('.mp3'):\n",
    "                        path = os.path.join(folder_path, file)\n",
    "                        try:\n",
    "                            features = calculate_features_for_single_record(path)\n",
    "                            # df_features.loc[len(df_features)] = features\n",
    "                            all_features.append(features)\n",
    "                            # print(df_features[\"Genre\"])\n",
    "\n",
    "                        except Exception as e:\n",
    "                            print(f\"Error processing {path}: {e}.\")\n",
    "\n",
    "                        pbar.update(1)\n",
    "\n",
    "df_features = pd.DataFrame(all_features, columns=columns())\n",
    "\n",
    "df_features.to_csv('extracted_features.csv', index=False)"
   ]
  },
  {
   "cell_type": "code",
   "execution_count": 114,
   "metadata": {},
   "outputs": [],
   "source": [
    "# df_features.loc[len(df_features)] = res"
   ]
  },
  {
   "cell_type": "code",
   "execution_count": 15,
   "metadata": {},
   "outputs": [
    {
     "data": {
      "text/html": [
       "<div>\n",
       "<style scoped>\n",
       "    .dataframe tbody tr th:only-of-type {\n",
       "        vertical-align: middle;\n",
       "    }\n",
       "\n",
       "    .dataframe tbody tr th {\n",
       "        vertical-align: top;\n",
       "    }\n",
       "\n",
       "    .dataframe thead th {\n",
       "        text-align: right;\n",
       "    }\n",
       "</style>\n",
       "<table border=\"1\" class=\"dataframe\">\n",
       "  <thead>\n",
       "    <tr style=\"text-align: right;\">\n",
       "      <th></th>\n",
       "      <th>chroma_cens_00_max</th>\n",
       "      <th>chroma_cens_00_mean</th>\n",
       "      <th>chroma_cens_00_median</th>\n",
       "      <th>chroma_cens_00_min</th>\n",
       "      <th>chroma_cens_00_std</th>\n",
       "      <th>chroma_cens_01_max</th>\n",
       "      <th>chroma_cens_01_mean</th>\n",
       "      <th>chroma_cens_01_median</th>\n",
       "      <th>chroma_cens_01_min</th>\n",
       "      <th>chroma_cens_01_std</th>\n",
       "      <th>...</th>\n",
       "      <th>zcr_00_max</th>\n",
       "      <th>zcr_00_mean</th>\n",
       "      <th>zcr_00_median</th>\n",
       "      <th>zcr_00_min</th>\n",
       "      <th>zcr_00_std</th>\n",
       "      <th>onset_num</th>\n",
       "      <th>beats</th>\n",
       "      <th>tempo</th>\n",
       "      <th>dtempo_changes</th>\n",
       "      <th>Genre</th>\n",
       "    </tr>\n",
       "  </thead>\n",
       "  <tbody>\n",
       "    <tr>\n",
       "      <th>0</th>\n",
       "      <td>0.188383</td>\n",
       "      <td>0.083866</td>\n",
       "      <td>0.078871</td>\n",
       "      <td>0.000000</td>\n",
       "      <td>0.043706</td>\n",
       "      <td>0.250713</td>\n",
       "      <td>0.126529</td>\n",
       "      <td>0.136529</td>\n",
       "      <td>0.000000</td>\n",
       "      <td>0.071916</td>\n",
       "      <td>...</td>\n",
       "      <td>0.097168</td>\n",
       "      <td>0.015582</td>\n",
       "      <td>0.013672</td>\n",
       "      <td>0.006836</td>\n",
       "      <td>0.009015</td>\n",
       "      <td>211</td>\n",
       "      <td>97</td>\n",
       "      <td>198.768029</td>\n",
       "      <td>11</td>\n",
       "      <td>Electronic\\001482.mp3</td>\n",
       "    </tr>\n",
       "    <tr>\n",
       "      <th>1</th>\n",
       "      <td>0.514906</td>\n",
       "      <td>0.361672</td>\n",
       "      <td>0.351852</td>\n",
       "      <td>0.235476</td>\n",
       "      <td>0.066464</td>\n",
       "      <td>0.300494</td>\n",
       "      <td>0.139820</td>\n",
       "      <td>0.136460</td>\n",
       "      <td>0.000000</td>\n",
       "      <td>0.076768</td>\n",
       "      <td>...</td>\n",
       "      <td>0.569336</td>\n",
       "      <td>0.182679</td>\n",
       "      <td>0.164062</td>\n",
       "      <td>0.044922</td>\n",
       "      <td>0.073516</td>\n",
       "      <td>130</td>\n",
       "      <td>42</td>\n",
       "      <td>89.102909</td>\n",
       "      <td>7</td>\n",
       "      <td>Electronic\\003573.mp3</td>\n",
       "    </tr>\n",
       "    <tr>\n",
       "      <th>2</th>\n",
       "      <td>0.329947</td>\n",
       "      <td>0.193748</td>\n",
       "      <td>0.202888</td>\n",
       "      <td>0.017711</td>\n",
       "      <td>0.060287</td>\n",
       "      <td>0.445039</td>\n",
       "      <td>0.251467</td>\n",
       "      <td>0.241952</td>\n",
       "      <td>0.087461</td>\n",
       "      <td>0.058671</td>\n",
       "      <td>...</td>\n",
       "      <td>0.147949</td>\n",
       "      <td>0.056129</td>\n",
       "      <td>0.055176</td>\n",
       "      <td>0.016602</td>\n",
       "      <td>0.019015</td>\n",
       "      <td>123</td>\n",
       "      <td>47</td>\n",
       "      <td>95.703125</td>\n",
       "      <td>7</td>\n",
       "      <td>Electronic\\004519.mp3</td>\n",
       "    </tr>\n",
       "    <tr>\n",
       "      <th>3</th>\n",
       "      <td>0.479490</td>\n",
       "      <td>0.273800</td>\n",
       "      <td>0.263448</td>\n",
       "      <td>0.025881</td>\n",
       "      <td>0.091197</td>\n",
       "      <td>0.607575</td>\n",
       "      <td>0.284696</td>\n",
       "      <td>0.274103</td>\n",
       "      <td>0.022886</td>\n",
       "      <td>0.134396</td>\n",
       "      <td>...</td>\n",
       "      <td>0.230957</td>\n",
       "      <td>0.064415</td>\n",
       "      <td>0.058594</td>\n",
       "      <td>0.009766</td>\n",
       "      <td>0.032143</td>\n",
       "      <td>156</td>\n",
       "      <td>76</td>\n",
       "      <td>151.999081</td>\n",
       "      <td>15</td>\n",
       "      <td>Electronic\\004520.mp3</td>\n",
       "    </tr>\n",
       "    <tr>\n",
       "      <th>4</th>\n",
       "      <td>0.491591</td>\n",
       "      <td>0.312343</td>\n",
       "      <td>0.301532</td>\n",
       "      <td>0.053283</td>\n",
       "      <td>0.082667</td>\n",
       "      <td>0.395521</td>\n",
       "      <td>0.207771</td>\n",
       "      <td>0.219119</td>\n",
       "      <td>0.006447</td>\n",
       "      <td>0.068787</td>\n",
       "      <td>...</td>\n",
       "      <td>0.224609</td>\n",
       "      <td>0.050325</td>\n",
       "      <td>0.047363</td>\n",
       "      <td>0.005371</td>\n",
       "      <td>0.030025</td>\n",
       "      <td>130</td>\n",
       "      <td>64</td>\n",
       "      <td>129.199219</td>\n",
       "      <td>1</td>\n",
       "      <td>Electronic\\004521.mp3</td>\n",
       "    </tr>\n",
       "  </tbody>\n",
       "</table>\n",
       "<p>5 rows × 435 columns</p>\n",
       "</div>"
      ],
      "text/plain": [
       "   chroma_cens_00_max  chroma_cens_00_mean  chroma_cens_00_median  \\\n",
       "0            0.188383             0.083866               0.078871   \n",
       "1            0.514906             0.361672               0.351852   \n",
       "2            0.329947             0.193748               0.202888   \n",
       "3            0.479490             0.273800               0.263448   \n",
       "4            0.491591             0.312343               0.301532   \n",
       "\n",
       "   chroma_cens_00_min  chroma_cens_00_std  chroma_cens_01_max  \\\n",
       "0            0.000000            0.043706            0.250713   \n",
       "1            0.235476            0.066464            0.300494   \n",
       "2            0.017711            0.060287            0.445039   \n",
       "3            0.025881            0.091197            0.607575   \n",
       "4            0.053283            0.082667            0.395521   \n",
       "\n",
       "   chroma_cens_01_mean  chroma_cens_01_median  chroma_cens_01_min  \\\n",
       "0             0.126529               0.136529            0.000000   \n",
       "1             0.139820               0.136460            0.000000   \n",
       "2             0.251467               0.241952            0.087461   \n",
       "3             0.284696               0.274103            0.022886   \n",
       "4             0.207771               0.219119            0.006447   \n",
       "\n",
       "   chroma_cens_01_std  ...  zcr_00_max  zcr_00_mean  zcr_00_median  \\\n",
       "0            0.071916  ...    0.097168     0.015582       0.013672   \n",
       "1            0.076768  ...    0.569336     0.182679       0.164062   \n",
       "2            0.058671  ...    0.147949     0.056129       0.055176   \n",
       "3            0.134396  ...    0.230957     0.064415       0.058594   \n",
       "4            0.068787  ...    0.224609     0.050325       0.047363   \n",
       "\n",
       "   zcr_00_min  zcr_00_std  onset_num  beats       tempo  dtempo_changes  \\\n",
       "0    0.006836    0.009015        211     97  198.768029              11   \n",
       "1    0.044922    0.073516        130     42   89.102909               7   \n",
       "2    0.016602    0.019015        123     47   95.703125               7   \n",
       "3    0.009766    0.032143        156     76  151.999081              15   \n",
       "4    0.005371    0.030025        130     64  129.199219               1   \n",
       "\n",
       "                   Genre  \n",
       "0  Electronic\\001482.mp3  \n",
       "1  Electronic\\003573.mp3  \n",
       "2  Electronic\\004519.mp3  \n",
       "3  Electronic\\004520.mp3  \n",
       "4  Electronic\\004521.mp3  \n",
       "\n",
       "[5 rows x 435 columns]"
      ]
     },
     "execution_count": 15,
     "metadata": {},
     "output_type": "execute_result"
    }
   ],
   "source": [
    "df_features.head()"
   ]
  },
  {
   "cell_type": "code",
   "execution_count": null,
   "metadata": {},
   "outputs": [],
   "source": []
  },
  {
   "cell_type": "markdown",
   "metadata": {},
   "source": [
    "# Parallel processing "
   ]
  },
  {
   "cell_type": "code",
   "execution_count": 26,
   "metadata": {},
   "outputs": [
    {
     "name": "stderr",
     "output_type": "stream",
     "text": [
      "Processing files:   0%|          | 39/7994 [00:30<31:21,  4.23it/s]  "
     ]
    },
    {
     "name": "stdout",
     "output_type": "stream",
     "text": [
      "Error processing ../datasets/fma/fma_small/Electronic\\021842.mp3: 'float' object is not subscriptable.\n"
     ]
    },
    {
     "name": "stderr",
     "output_type": "stream",
     "text": [
      "Processing files:   5%|▌         | 434/7994 [05:23<40:40,  3.10it/s]  "
     ]
    },
    {
     "name": "stdout",
     "output_type": "stream",
     "text": [
      "Error processing ../datasets/fma/fma_small/Electronic\\084201.mp3: 'float' object is not subscriptable.\n"
     ]
    },
    {
     "name": "stderr",
     "output_type": "stream",
     "text": [
      "Processing files:  10%|▉         | 775/7994 [10:12<2:50:30,  1.42s/it]c:\\Users\\szyme\\Documents\\Praca_Magisterska\\Musical-Genres-Classification\\.venv\\lib\\site-packages\\librosa\\core\\pitch.py:101: UserWarning: Trying to estimate tuning from empty frequency set.\n",
      "  return pitch_tuning(\n",
      "Processing files:  11%|█         | 869/7994 [11:38<56:08,  2.12it/s]  "
     ]
    },
    {
     "name": "stdout",
     "output_type": "stream",
     "text": [
      "Error processing ../datasets/fma/fma_small/Electronic\\132774.mp3: 'float' object is not subscriptable.\n"
     ]
    },
    {
     "name": "stderr",
     "output_type": "stream",
     "text": [
      "Processing files:  15%|█▍        | 1172/7994 [16:12<27:54,  4.07it/s]  "
     ]
    },
    {
     "name": "stdout",
     "output_type": "stream",
     "text": [
      "Error processing ../datasets/fma/fma_small/Experimental\\030690.mp3: 'float' object is not subscriptable.\n"
     ]
    },
    {
     "name": "stderr",
     "output_type": "stream",
     "text": [
      "Processing files:  19%|█▉        | 1512/7994 [20:44<23:44,  4.55it/s]  "
     ]
    },
    {
     "name": "stdout",
     "output_type": "stream",
     "text": [
      "Error processing ../datasets/fma/fma_small/Experimental\\073820.mp3: 'float' object is not subscriptable.\n",
      "Error processing ../datasets/fma/fma_small/Experimental\\073819.mp3: 'float' object is not subscriptable.\n"
     ]
    },
    {
     "name": "stderr",
     "output_type": "stream",
     "text": [
      "Processing files:  19%|█▉        | 1514/7994 [20:44<27:27,  3.93it/s]"
     ]
    },
    {
     "name": "stdout",
     "output_type": "stream",
     "text": [
      "Error processing ../datasets/fma/fma_small/Experimental\\073821.mp3: 'float' object is not subscriptable.\n"
     ]
    },
    {
     "name": "stderr",
     "output_type": "stream",
     "text": [
      "Processing files:  19%|█▉        | 1515/7994 [20:50<1:47:24,  1.01it/s]"
     ]
    },
    {
     "name": "stdout",
     "output_type": "stream",
     "text": [
      "Error processing ../datasets/fma/fma_small/Experimental\\073822.mp3: 'float' object is not subscriptable.\n"
     ]
    },
    {
     "name": "stderr",
     "output_type": "stream",
     "text": [
      "Processing files:  53%|█████▎    | 4226/7994 [56:00<1:31:07,  1.45s/it]"
     ]
    },
    {
     "name": "stdout",
     "output_type": "stream",
     "text": [
      "Error processing ../datasets/fma/fma_small/Instrumental\\107535.mp3: 'float' object is not subscriptable.\n"
     ]
    },
    {
     "name": "stderr",
     "output_type": "stream",
     "text": [
      "Processing files: 100%|██████████| 7994/7994 [1:45:59<00:00,  1.26it/s]  \n"
     ]
    }
   ],
   "source": [
    "import concurrent.futures\n",
    "import os\n",
    "import librosa\n",
    "import pandas as pd\n",
    "import numpy as np\n",
    "from tqdm import tqdm\n",
    "\n",
    "\n",
    "def count_value_changes(arr):\n",
    "    changes = 0\n",
    "    for i in range(1, len(arr)):\n",
    "        if arr[i] != arr[i - 1]:\n",
    "            changes += 1\n",
    "    return changes\n",
    "\n",
    "\n",
    "def calculate_features_for_single_record(file_path):\n",
    "    y, sr = librosa.load(file_path)\n",
    "    \n",
    "    chroma_stft = librosa.feature.chroma_stft(y=y, sr=sr, n_chroma=12)\n",
    "    chroma_cqt = librosa.feature.chroma_cqt(y=y, sr=sr, n_chroma=12)\n",
    "    chroma_cens = librosa.feature.chroma_cens(y=y, sr=sr)\n",
    "    mfcc = librosa.feature.mfcc(y=y, sr=sr, n_mfcc=12)\n",
    "    rms = librosa.feature.rms(y=y)\n",
    "\n",
    "    spectral_centroid = librosa.feature.spectral_centroid(y=y, sr=sr)\n",
    "    spectral_bandwidth = librosa.feature.spectral_bandwidth(y=y, sr=sr)\n",
    "    spectral_contrast = librosa.feature.spectral_contrast(y=y, sr=sr)\n",
    "    spectral_flatness = librosa.feature.spectral_flatness(y=y)\n",
    "    spectral_rolloff = librosa.feature.spectral_rolloff(y=y, sr=sr)\n",
    "\n",
    "    poly_features = librosa.feature.poly_features(y=y, sr=sr, order=2)\n",
    "    tonnetz = librosa.feature.tonnetz(y=librosa.effects.harmonic(y), sr=sr)\n",
    "    zcr = librosa.feature.zero_crossing_rate(y)\n",
    "\n",
    "    onset_env = librosa.onset.onset_strength(y=y, sr=sr)\n",
    "    plp = librosa.beat.plp(onset_envelope=onset_env, sr=sr)\n",
    "    \n",
    "    dtempo = librosa.feature.tempo(onset_envelope=onset_env, sr=sr, aggregate=None)\n",
    "    tempogram_ratio = librosa.feature.tempogram_ratio(tg=librosa.feature.tempogram(y=y, sr=sr), sr=sr)\n",
    "    \n",
    "    dtempo_changes = count_value_changes(dtempo)\n",
    "    tempo, beats = librosa.beat.beat_track(y=y, sr=sr)\n",
    "    onset_num = len(librosa.onset.onset_detect(onset_envelope=onset_env, sr=sr))\n",
    "\n",
    "    moments = ['mean', 'std', 'median', 'min', 'max']\n",
    "\n",
    "    def aggregate_feature(feature):\n",
    "        return [np.max(feature), np.mean(feature), np.median(feature), np.min(feature), np.std(feature)]\n",
    "    \n",
    "    features = []\n",
    "\n",
    "    for f in [chroma_cens, chroma_cqt, chroma_stft, dtempo, mfcc, onset_env, plp, poly_features, rms, spectral_bandwidth,\n",
    "              spectral_centroid, spectral_contrast, spectral_flatness, spectral_rolloff, tempogram_ratio, \n",
    "              tonnetz, zcr]:\n",
    "        if f.ndim == 1:\n",
    "            features.extend(aggregate_feature(f))\n",
    "        else:\n",
    "            features.extend(np.hstack([aggregate_feature(f[i]) for i in range(f.shape[0])]))\n",
    "\n",
    "    features.append(onset_num)\n",
    "    features.append(len(beats))\n",
    "    features.append(tempo[0])\n",
    "    features.append(dtempo_changes)\n",
    "\n",
    "    genre = file_path.split('/')[-1].split(\"\\\\\")[0]\n",
    "    features.append(genre)\n",
    "\n",
    "    return features\n",
    "\n",
    "\n",
    "def process_file(file_path):\n",
    "    try:\n",
    "        features = calculate_features_for_single_record(file_path)\n",
    "        return features\n",
    "    except Exception as e:\n",
    "        print(f\"Error processing {file_path}: {e}.\")\n",
    "        return None\n",
    "\n",
    "\n",
    "def process_files_in_parallel(rootdir):\n",
    "    all_features = []\n",
    "\n",
    "    # Count total files for progress bar\n",
    "    total_files = sum([len(files) for r, d, files in os.walk(rootdir) if any(f.endswith('.mp3') for f in files)])\n",
    "\n",
    "    # Using ThreadPoolExecutor to process files in parallel\n",
    "    with tqdm(total=total_files, desc=\"Processing files\") as pbar, concurrent.futures.ThreadPoolExecutor() as executor:\n",
    "        futures = []\n",
    "        \n",
    "        for subdir, dirs, _ in os.walk(rootdir):\n",
    "            for folder in dirs:\n",
    "                folder_path = os.path.join(subdir, folder)\n",
    "                for _, _, files in os.walk(folder_path):\n",
    "                    for file in files:\n",
    "                        if file.endswith('.mp3'):\n",
    "                            path = os.path.join(folder_path, file)\n",
    "                            futures.append(executor.submit(process_file, path))\n",
    "        \n",
    "        for future in concurrent.futures.as_completed(futures):\n",
    "            result = future.result()\n",
    "            if result is not None:\n",
    "                all_features.append(result)\n",
    "            pbar.update(1)\n",
    "\n",
    "    return all_features\n",
    "\n",
    "# Define root directory and process files\n",
    "rootdir = '../datasets/fma/fma_small/'\n",
    "df_features = pd.DataFrame(process_files_in_parallel(rootdir), columns=columns())\n",
    "\n",
    "# Save the features to CSV\n",
    "df_features.to_csv('extracted_features.csv', index=False)"
   ]
  },
  {
   "cell_type": "code",
   "execution_count": 27,
   "metadata": {},
   "outputs": [
    {
     "data": {
      "text/plain": [
       "(7985, 435)"
      ]
     },
     "execution_count": 27,
     "metadata": {},
     "output_type": "execute_result"
    }
   ],
   "source": [
    "df_features.shape"
   ]
  },
  {
   "cell_type": "code",
   "execution_count": null,
   "metadata": {},
   "outputs": [],
   "source": []
  }
 ],
 "metadata": {
  "kernelspec": {
   "display_name": ".venv",
   "language": "python",
   "name": "python3"
  },
  "language_info": {
   "codemirror_mode": {
    "name": "ipython",
    "version": 3
   },
   "file_extension": ".py",
   "mimetype": "text/x-python",
   "name": "python",
   "nbconvert_exporter": "python",
   "pygments_lexer": "ipython3",
   "version": "3.9.13"
  }
 },
 "nbformat": 4,
 "nbformat_minor": 2
}
